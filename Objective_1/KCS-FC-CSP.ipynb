{
 "cells": [
  {
   "cell_type": "code",
   "execution_count": 1,
   "metadata": {
    "_cell_guid": "79c7e3d0-c299-4dcb-8224-4455121ee9b0",
    "_uuid": "d629ff2d2480ee46fbb7e2d37f6b5fab8052498a",
    "execution": {
     "iopub.execute_input": "2021-01-31T16:57:13.143770Z",
     "iopub.status.busy": "2021-01-31T16:57:13.131788Z",
     "iopub.status.idle": "2021-01-31T16:57:25.333460Z",
     "shell.execute_reply": "2021-01-31T16:57:25.332623Z"
    },
    "papermill": {
     "duration": 12.216256,
     "end_time": "2021-01-31T16:57:25.333670",
     "exception": false,
     "start_time": "2021-01-31T16:57:13.117414",
     "status": "completed"
    },
    "tags": []
   },
   "outputs": [
    {
     "name": "stdout",
     "output_type": "stream",
     "text": [
      "Collecting git+https://github.com/UN-GCPDS/python-gcpds.utils.git\r\n",
      "  Cloning https://github.com/UN-GCPDS/python-gcpds.utils.git to /tmp/pip-req-build-7qrk6gcs\r\n",
      "  Running command git clone -q https://github.com/UN-GCPDS/python-gcpds.utils.git /tmp/pip-req-build-7qrk6gcs\r\n",
      "Requirement already satisfied: numpy in /opt/conda/lib/python3.7/site-packages (from gcpds-utils==0.1a3) (1.19.5)\r\n",
      "Requirement already satisfied: scipy in /opt/conda/lib/python3.7/site-packages (from gcpds-utils==0.1a3) (1.4.1)\r\n",
      "Requirement already satisfied: matplotlib in /opt/conda/lib/python3.7/site-packages (from gcpds-utils==0.1a3) (3.3.3)\r\n",
      "Requirement already satisfied: mne in /opt/conda/lib/python3.7/site-packages (from gcpds-utils==0.1a3) (0.22.0)\r\n",
      "Requirement already satisfied: tables in /opt/conda/lib/python3.7/site-packages (from gcpds-utils==0.1a3) (3.6.1)\r\n",
      "Requirement already satisfied: tqdm in /opt/conda/lib/python3.7/site-packages (from gcpds-utils==0.1a3) (4.55.1)\r\n",
      "Requirement already satisfied: kiwisolver>=1.0.1 in /opt/conda/lib/python3.7/site-packages (from matplotlib->gcpds-utils==0.1a3) (1.3.1)\r\n",
      "Requirement already satisfied: pillow>=6.2.0 in /opt/conda/lib/python3.7/site-packages (from matplotlib->gcpds-utils==0.1a3) (7.2.0)\r\n",
      "Requirement already satisfied: pyparsing!=2.0.4,!=2.1.2,!=2.1.6,>=2.0.3 in /opt/conda/lib/python3.7/site-packages (from matplotlib->gcpds-utils==0.1a3) (2.4.7)\r\n",
      "Requirement already satisfied: python-dateutil>=2.1 in /opt/conda/lib/python3.7/site-packages (from matplotlib->gcpds-utils==0.1a3) (2.8.1)\r\n",
      "Requirement already satisfied: cycler>=0.10 in /opt/conda/lib/python3.7/site-packages (from matplotlib->gcpds-utils==0.1a3) (0.10.0)\r\n",
      "Requirement already satisfied: six in /opt/conda/lib/python3.7/site-packages (from cycler>=0.10->matplotlib->gcpds-utils==0.1a3) (1.15.0)\r\n",
      "Requirement already satisfied: numexpr>=2.6.2 in /opt/conda/lib/python3.7/site-packages (from tables->gcpds-utils==0.1a3) (2.7.2)\r\n",
      "Building wheels for collected packages: gcpds-utils\r\n",
      "  Building wheel for gcpds-utils (setup.py) ... \u001b[?25l-\b \b\\\b \b|\b \bdone\r\n",
      "\u001b[?25h  Created wheel for gcpds-utils: filename=gcpds_utils-0.1a3-py3-none-any.whl size=96942 sha256=efc3ac6afccd0e7abab4c92b8dba3a69a77d8da8b04d4d60cdd9d12b7d56742c\r\n",
      "  Stored in directory: /tmp/pip-ephem-wheel-cache-fylr4mos/wheels/27/94/14/3c2a3e71cf1df95b4a5b2174f21f469d678f59507e1d72f207\r\n",
      "Successfully built gcpds-utils\r\n",
      "Installing collected packages: gcpds-utils\r\n",
      "Successfully installed gcpds-utils-0.1a3\r\n",
      "\u001b[33mWARNING: You are using pip version 21.0; however, version 21.0.1 is available.\r\n",
      "You should consider upgrading via the '/opt/conda/bin/python3.7 -m pip install --upgrade pip' command.\u001b[0m\r\n"
     ]
    }
   ],
   "source": [
    "!pip install git+https://github.com/UN-GCPDS/python-gcpds.utils.git"
   ]
  },
  {
   "cell_type": "code",
   "execution_count": 2,
   "metadata": {
    "execution": {
     "iopub.execute_input": "2021-01-31T16:57:25.362868Z",
     "iopub.status.busy": "2021-01-31T16:57:25.362146Z",
     "iopub.status.idle": "2021-01-31T16:57:37.162331Z",
     "shell.execute_reply": "2021-01-31T16:57:37.160973Z"
    },
    "papermill": {
     "duration": 11.817589,
     "end_time": "2021-01-31T16:57:37.162474",
     "exception": false,
     "start_time": "2021-01-31T16:57:25.344885",
     "status": "completed"
    },
    "tags": []
   },
   "outputs": [
    {
     "name": "stdout",
     "output_type": "stream",
     "text": [
      "Collecting mne==0.19\r\n",
      "  Downloading mne-0.19.0-py3-none-any.whl (6.4 MB)\r\n",
      "\u001b[K     |████████████████████████████████| 6.4 MB 5.0 MB/s \r\n",
      "\u001b[?25hRequirement already satisfied: numpy>=1.11.3 in /opt/conda/lib/python3.7/site-packages (from mne==0.19) (1.19.5)\r\n",
      "Requirement already satisfied: scipy>=0.17.1 in /opt/conda/lib/python3.7/site-packages (from mne==0.19) (1.4.1)\r\n",
      "Installing collected packages: mne\r\n",
      "  Attempting uninstall: mne\r\n",
      "    Found existing installation: mne 0.22.0\r\n",
      "    Uninstalling mne-0.22.0:\r\n",
      "      Successfully uninstalled mne-0.22.0\r\n",
      "Successfully installed mne-0.19.0\r\n",
      "\u001b[33mWARNING: You are using pip version 21.0; however, version 21.0.1 is available.\r\n",
      "You should consider upgrading via the '/opt/conda/bin/python3.7 -m pip install --upgrade pip' command.\u001b[0m\r\n"
     ]
    }
   ],
   "source": [
    "!pip install mne==0.19"
   ]
  },
  {
   "cell_type": "code",
   "execution_count": null,
   "metadata": {
    "execution": {
     "iopub.execute_input": "2021-01-31T16:57:37.221045Z",
     "iopub.status.busy": "2021-01-31T16:57:37.220240Z",
     "iopub.status.idle": "2021-01-31T16:57:39.879571Z",
     "shell.execute_reply": "2021-01-31T16:57:39.880057Z"
    },
    "papermill": {
     "duration": 2.692496,
     "end_time": "2021-01-31T16:57:39.880283",
     "exception": false,
     "start_time": "2021-01-31T16:57:37.187787",
     "status": "completed"
    },
    "tags": []
   },
   "outputs": [],
   "source": [
    "import sys\n",
    "sys.path.insert(0,'/kaggle/input/mi-eeg-classmeth/')"
   ]
  },
  {
   "cell_type": "code",
   "execution_count": 5,
   "metadata": {
    "execution": {
     "iopub.execute_input": "2021-01-31T16:57:41.872216Z",
     "iopub.status.busy": "2021-01-31T16:57:41.871582Z",
     "iopub.status.idle": "2021-01-31T16:57:50.437034Z",
     "shell.execute_reply": "2021-01-31T16:57:50.437565Z"
    },
    "papermill": {
     "duration": 8.603131,
     "end_time": "2021-01-31T16:57:50.437742",
     "exception": false,
     "start_time": "2021-01-31T16:57:41.834611",
     "status": "completed"
    },
    "tags": []
   },
   "outputs": [],
   "source": [
    "from gcpds.utils import loaddb\n",
    "import sys\n",
    "from scipy.io import loadmat\n",
    "from sklearn.preprocessing import StandardScaler\n",
    "import tensorflow as tf\n",
    "import numpy as np\n",
    "from joblib import dump, load\n",
    "from sklearn.svm import LinearSVC, SVC\n",
    "from sklearn.neighbors import KNeighborsClassifier\n",
    "from sklearn.naive_bayes import GaussianNB\n",
    "from sklearn.tree import DecisionTreeClassifier\n",
    "from sklearn.pipeline import Pipeline\n",
    "from sklearn.linear_model import SGDClassifier\n",
    "from sklearn.model_selection import train_test_split,GridSearchCV, StratifiedShuffleSplit\n",
    "from sklearn.metrics import confusion_matrix, accuracy_score, classification_report, cohen_kappa_score, pairwise_distances\n",
    "from mne.viz import plot_topomap\n",
    "from MIfunctions import * #importar todas las funciones de manejo de eeg con mne.\n",
    "import os\n",
    "import time\n",
    "from sklearn.metrics import make_scorer\n",
    "from sklearn.discriminant_analysis import LinearDiscriminantAnalysis as LDA\n",
    "import pickle"
   ]
  },
  {
   "cell_type": "code",
   "execution_count": 6,
   "metadata": {
    "execution": {
     "iopub.execute_input": "2021-01-31T16:57:50.532093Z",
     "iopub.status.busy": "2021-01-31T16:57:50.524492Z",
     "iopub.status.idle": "2021-01-31T17:20:41.719451Z",
     "shell.execute_reply": "2021-01-31T17:20:41.720278Z"
    },
    "papermill": {
     "duration": 1371.243445,
     "end_time": "2021-01-31T17:20:41.720518",
     "exception": false,
     "start_time": "2021-01-31T16:57:50.477073",
     "status": "completed"
    },
    "tags": []
   },
   "outputs": [
    {
     "name": "stdout",
     "output_type": "stream",
     "text": [
      "The subject 32 has 5 runs\n",
      "(200, 64, 1792)\n",
      "(200,)\n",
      "Fitting 10 folds for each of 1 candidates, totalling 10 fits\n"
     ]
    },
    {
     "name": "stderr",
     "output_type": "stream",
     "text": [
      "[Parallel(n_jobs=-1)]: Using backend LokyBackend with 4 concurrent workers.\n",
      "[Parallel(n_jobs=-1)]: Done   5 out of  10 | elapsed:  1.1min remaining:  1.1min\n",
      "[Parallel(n_jobs=-1)]: Done   7 out of  10 | elapsed:  1.2min remaining:   29.7s\n",
      "[Parallel(n_jobs=-1)]: Done  10 out of  10 | elapsed:  1.5min finished\n"
     ]
    },
    {
     "name": "stdout",
     "output_type": "stream",
     "text": [
      "sbj32acc49.75\n",
      "The subject 33 has 5 runs\n",
      "(199, 64, 1792)\n",
      "(199,)\n",
      "Fitting 10 folds for each of 1 candidates, totalling 10 fits\n"
     ]
    },
    {
     "name": "stderr",
     "output_type": "stream",
     "text": [
      "[Parallel(n_jobs=-1)]: Using backend LokyBackend with 4 concurrent workers.\n",
      "[Parallel(n_jobs=-1)]: Done   5 out of  10 | elapsed:  1.0min remaining:  1.0min\n",
      "[Parallel(n_jobs=-1)]: Done   7 out of  10 | elapsed:  1.1min remaining:   27.4s\n",
      "[Parallel(n_jobs=-1)]: Done  10 out of  10 | elapsed:  1.4min finished\n"
     ]
    },
    {
     "name": "stdout",
     "output_type": "stream",
     "text": [
      "sbj33acc56.75\n",
      "The subject 35 has 5 runs\n",
      "(200, 64, 1792)\n",
      "(200,)\n",
      "Fitting 10 folds for each of 1 candidates, totalling 10 fits\n"
     ]
    },
    {
     "name": "stderr",
     "output_type": "stream",
     "text": [
      "[Parallel(n_jobs=-1)]: Using backend LokyBackend with 4 concurrent workers.\n",
      "[Parallel(n_jobs=-1)]: Done   5 out of  10 | elapsed:   59.8s remaining:   59.8s\n",
      "[Parallel(n_jobs=-1)]: Done   7 out of  10 | elapsed:  1.1min remaining:   27.6s\n",
      "[Parallel(n_jobs=-1)]: Done  10 out of  10 | elapsed:  1.4min finished\n"
     ]
    },
    {
     "name": "stdout",
     "output_type": "stream",
     "text": [
      "sbj35acc84.5\n",
      "The subject 36 has 5 runs\n",
      "(195, 64, 1792)\n",
      "(195,)\n",
      "Fitting 10 folds for each of 1 candidates, totalling 10 fits\n"
     ]
    },
    {
     "name": "stderr",
     "output_type": "stream",
     "text": [
      "[Parallel(n_jobs=-1)]: Using backend LokyBackend with 4 concurrent workers.\n",
      "[Parallel(n_jobs=-1)]: Done   5 out of  10 | elapsed:  1.0min remaining:  1.0min\n",
      "[Parallel(n_jobs=-1)]: Done   7 out of  10 | elapsed:  1.0min remaining:   26.6s\n",
      "[Parallel(n_jobs=-1)]: Done  10 out of  10 | elapsed:  1.4min finished\n"
     ]
    },
    {
     "name": "stdout",
     "output_type": "stream",
     "text": [
      "sbj36acc52.5641\n",
      "The subject 37 has 5 runs\n",
      "(200, 64, 1792)\n",
      "(200,)\n",
      "Fitting 10 folds for each of 1 candidates, totalling 10 fits\n"
     ]
    },
    {
     "name": "stderr",
     "output_type": "stream",
     "text": [
      "[Parallel(n_jobs=-1)]: Using backend LokyBackend with 4 concurrent workers.\n",
      "[Parallel(n_jobs=-1)]: Done   5 out of  10 | elapsed:  1.0min remaining:  1.0min\n",
      "[Parallel(n_jobs=-1)]: Done   7 out of  10 | elapsed:  1.1min remaining:   27.2s\n",
      "[Parallel(n_jobs=-1)]: Done  10 out of  10 | elapsed:  1.4min finished\n"
     ]
    },
    {
     "name": "stdout",
     "output_type": "stream",
     "text": [
      "sbj37acc69.75\n"
     ]
    }
   ],
   "source": [
    "tau =  4\n",
    "overlap=1-0.5\n",
    "ti = 4\n",
    "tf = 40\n",
    "tti = np.arange(ti,tf-tau+(tau*overlap),tau*overlap)\n",
    "ttf = np.arange(ti+tau,tf+tau*overlap,tau*overlap)\n",
    "f_frec = np.array([tti,ttf]).T\n",
    "#vtw= np.array([[0,2],[1,3],[2,4],[3,5],[4,6],[5,7]])\n",
    "tau =  1\n",
    "overlap=1-0.75\n",
    "ti = 2\n",
    "tf = 6\n",
    "tti = np.arange(ti,tf-tau+(tau*overlap),tau*overlap)\n",
    "ttf = np.arange(ti+tau,tf+tau*overlap,tau*overlap)\n",
    "vtw = np.array([tti,ttf]).T\n",
    "#vtw= np.array([[0,2]])\n",
    "#f_frec = np.array([[2.5,4.5]])\n",
    "subjects = np.arange(52)+1\n",
    "subjects=np.delete(subjects,[28,33])\n",
    "for sbj in subjects[30:35]:#subjects:\n",
    "    db = loaddb.GIGA('../input/giga-science-gcpds/GIGA_MI_ME/')\n",
    "    db.load_subject(sbj)\n",
    "    print(f'The subject {sbj} has {db.runs} runs')\n",
    "    Xraw, y = db.get_data(reject_bad_trials=True,classes=['left hand mi', 'right hand mi'])\n",
    "    #run[i], class_[i] = db.get_run(i,classes=['left hand', 'right hand'])\n",
    "    Xraw = np.asarray(Xraw)\n",
    "    Xraw=Xraw[:,:,::2]\n",
    "    print(Xraw.shape)\n",
    "    y = np.asarray(y,dtype=np.float64).ravel()\n",
    "    y[y==0]=-1\n",
    "    print(y.shape)\n",
    "    fs =db.metadata['sampling_rate']/2\n",
    "    channels_names = db.metadata['channel_names']\n",
    "    montage = mne.channels.read_montage(db.metadata['montage'], channels_names)\n",
    "    info = mne.create_info(channels_names, sfreq=fs, ch_types=\"eeg\",\n",
    "                            montage=montage) \n",
    "    feat = FB_feats(fs=fs,vtw=vtw,f_frec=f_frec,gammad=1,feat='kcon')\n",
    "    xxx = feat.fit_transform(Xraw,y) \n",
    "    #opt = tf.keras.optimizers.RMSprop(learning_rate=1e-1)\n",
    "    steps=[('CSP_window_time',Window_band_CSP_eppoch(fs=fs,vtw=vtw,f_frec=f_frec,PCov=True)),\n",
    "            ('flat',flatt()),\n",
    "            ('cla', LDA())]    \n",
    "    method = Pipeline(steps,memory='/kaggle/tmp/datospipeline')\n",
    "    parameters ={'CSP_window_time__ncomp':[6]}\n",
    "    scores = {'acc': 'accuracy','kappa': make_scorer(cohen_kappa_score,greater_is_better=True)}    \n",
    "    cv = StratifiedShuffleSplit(n_splits=10, test_size=0.2, random_state=0)\n",
    "    grid_search = GridSearchCV(method, parameters,cv=cv,verbose=10,\n",
    "                               scoring=scores,refit='acc',n_jobs=-1)\n",
    "    #grid_search = GridSearchCV(method, parameters,cv=cv,verbose=10,\n",
    "     #                          scoring=kappa_,n_jobs=-1)\n",
    "    #try:\n",
    "    grid_search.fit(xxx,y)\n",
    "    results = grid_search.cv_results_\n",
    "    filters = grid_search.best_estimator_['CSP_window_time'].filters\n",
    "    ncomp = grid_search.best_estimator_['CSP_window_time'].ncomp\n",
    "    #%% topoplots\n",
    "    savedata ={\n",
    "        'steps':steps,\n",
    "        'f_frec':f_frec,\n",
    "        'vtw':vtw,\n",
    "        'best_param':grid_search.best_params_,       \n",
    "        'cv_results':results\n",
    "    }\n",
    "    #dump(savedata,'sujeto_'+str(sbj)+'_cka_featuresCSP_BCI2a_acc.joblib')\n",
    "    dump(savedata,'tau_'+str(tau)+'_sujeto_'+str(sbj)+'_elastic_featuresCSP_GIGA_acc.joblib')\n",
    "    print('sbj'+str(sbj)+'acc'+str(np.round(grid_search.best_score_*100,4)))"
   ]
  },
  {
   "cell_type": "code",
   "execution_count": 7,
   "metadata": {
    "execution": {
     "iopub.execute_input": "2021-01-31T17:20:41.869858Z",
     "iopub.status.busy": "2021-01-31T17:20:41.856195Z",
     "iopub.status.idle": "2021-01-31T17:20:42.219408Z",
     "shell.execute_reply": "2021-01-31T17:20:42.218813Z"
    },
    "papermill": {
     "duration": 0.431149,
     "end_time": "2021-01-31T17:20:42.219549",
     "exception": false,
     "start_time": "2021-01-31T17:20:41.788400",
     "status": "completed"
    },
    "tags": []
   },
   "outputs": [
    {
     "name": "stdout",
     "output_type": "stream",
     "text": [
      "  adding: tau_1_sujeto_32_elastic_featuresCSP_GIGA_acc.joblib (deflated 62%)\r\n",
      "  adding: tau_1_sujeto_33_elastic_featuresCSP_GIGA_acc.joblib (deflated 63%)\r\n",
      "  adding: tau_1_sujeto_35_elastic_featuresCSP_GIGA_acc.joblib (deflated 63%)\r\n",
      "  adding: tau_1_sujeto_36_elastic_featuresCSP_GIGA_acc.joblib (deflated 60%)\r\n",
      "  adding: tau_1_sujeto_37_elastic_featuresCSP_GIGA_acc.joblib (deflated 63%)\r\n"
     ]
    }
   ],
   "source": [
    "!zip Results-joblib.zip ./*.joblib\n",
    "#!zip Results-images.zip ./*.eps"
   ]
  }
 ],
 "metadata": {
  "kernelspec": {
   "display_name": "Python 3",
   "language": "python",
   "name": "python3"
  },
  "language_info": {
   "codemirror_mode": {
    "name": "ipython",
    "version": 3
   },
   "file_extension": ".py",
   "mimetype": "text/x-python",
   "name": "python",
   "nbconvert_exporter": "python",
   "pygments_lexer": "ipython3",
   "version": "3.7.9"
  },
  "papermill": {
   "default_parameters": {},
   "duration": 1416.52056,
   "end_time": "2021-01-31T17:20:44.077712",
   "environment_variables": {},
   "exception": null,
   "input_path": "__notebook__.ipynb",
   "output_path": "__notebook__.ipynb",
   "parameters": {},
   "start_time": "2021-01-31T16:57:07.557152",
   "version": "2.2.2"
  }
 },
 "nbformat": 4,
 "nbformat_minor": 4
}
