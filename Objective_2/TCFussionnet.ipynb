{
 "cells": [
  {
   "cell_type": "markdown",
   "id": "eb96db0c",
   "metadata": {
    "papermill": {
     "duration": 0.005614,
     "end_time": "2022-11-26T17:02:02.927496",
     "exception": false,
     "start_time": "2022-11-26T17:02:02.921882",
     "status": "completed"
    },
    "tags": []
   },
   "source": [
    "# Set-up"
   ]
  },
  {
   "cell_type": "markdown",
   "id": "e2aeecd8",
   "metadata": {
    "papermill": {
     "duration": 0.003978,
     "end_time": "2022-11-26T17:02:02.936100",
     "exception": false,
     "start_time": "2022-11-26T17:02:02.932122",
     "status": "completed"
    },
    "tags": []
   },
   "source": [
    "## Installing libraries and libcudnn8"
   ]
  },
  {
   "cell_type": "code",
   "execution_count": 1,
   "id": "d8f8bc65",
   "metadata": {
    "execution": {
     "iopub.execute_input": "2022-11-26T17:02:02.945638Z",
     "iopub.status.busy": "2022-11-26T17:02:02.944990Z",
     "iopub.status.idle": "2022-11-26T17:05:52.276109Z",
     "shell.execute_reply": "2022-11-26T17:05:52.274976Z"
    },
    "papermill": {
     "duration": 229.338766,
     "end_time": "2022-11-26T17:05:52.278756",
     "exception": false,
     "start_time": "2022-11-26T17:02:02.939990",
     "status": "completed"
    },
    "tags": []
   },
   "outputs": [
    {
     "name": "stdout",
     "output_type": "stream",
     "text": [
      "\r\n",
      "\r\n",
      "\r\n",
      "The following packages will be REMOVED:\r\n",
      "  libcudnn8-dev\r\n",
      "The following held packages will be changed:\r\n",
      "  libcudnn8\r\n",
      "The following packages will be upgraded:\r\n",
      "  libcudnn8\r\n",
      "1 upgraded, 0 newly installed, 1 to remove and 91 not upgraded.\r\n",
      "Need to get 421 MB of archives.\r\n",
      "After this operation, 2621 MB disk space will be freed.\r\n",
      "Get:1 https://developer.download.nvidia.com/compute/cuda/repos/ubuntu2004/x86_64  libcudnn8 8.1.1.33-1+cuda11.2 [421 MB]\r\n",
      "Fetched 421 MB in 20s (20.9 MB/s)\r\n",
      "(Reading database ... 108827 files and directories currently installed.)\r\n",
      "Removing libcudnn8-dev (8.0.5.39-1+cuda11.0) ...\r\n",
      "update-alternatives: removing manually selected alternative - switching libcudnn to auto mode\r\n",
      "(Reading database ... 108805 files and directories currently installed.)\r\n",
      "Preparing to unpack .../libcudnn8_8.1.1.33-1+cuda11.2_amd64.deb ...\r\n",
      "Unpacking libcudnn8 (8.1.1.33-1+cuda11.2) over (8.0.5.39-1+cuda11.0) ...\r\n",
      "Setting up libcudnn8 (8.1.1.33-1+cuda11.2) ...\r\n",
      "Collecting git+https://github.com/UN-GCPDS/python-gcpds.databases\r\n",
      "  Cloning https://github.com/UN-GCPDS/python-gcpds.databases to /tmp/pip-req-build-lrri8mt9\r\n",
      "  Running command git clone --filter=blob:none --quiet https://github.com/UN-GCPDS/python-gcpds.databases /tmp/pip-req-build-lrri8mt9\r\n",
      "  Resolved https://github.com/UN-GCPDS/python-gcpds.databases to commit b277fe7213d128de27677079eb96a24b7c238a66\r\n",
      "  Preparing metadata (setup.py) ... \u001b[?25l-\b \bdone\r\n",
      "\u001b[?25hRequirement already satisfied: numpy in /opt/conda/lib/python3.7/site-packages (from gcpds-databases==0.1) (1.21.6)\r\n",
      "Requirement already satisfied: scipy in /opt/conda/lib/python3.7/site-packages (from gcpds-databases==0.1) (1.7.3)\r\n",
      "Requirement already satisfied: matplotlib in /opt/conda/lib/python3.7/site-packages (from gcpds-databases==0.1) (3.5.3)\r\n",
      "Requirement already satisfied: mne in /opt/conda/lib/python3.7/site-packages (from gcpds-databases==0.1) (1.2.0)\r\n",
      "Requirement already satisfied: tables in /opt/conda/lib/python3.7/site-packages (from gcpds-databases==0.1) (3.7.0)\r\n",
      "Requirement already satisfied: tqdm in /opt/conda/lib/python3.7/site-packages (from gcpds-databases==0.1) (4.64.0)\r\n",
      "Collecting gdown\r\n",
      "  Downloading gdown-4.5.4-py3-none-any.whl (14 kB)\r\n",
      "Requirement already satisfied: requests[socks] in /opt/conda/lib/python3.7/site-packages (from gdown->gcpds-databases==0.1) (2.28.1)\r\n",
      "Requirement already satisfied: beautifulsoup4 in /opt/conda/lib/python3.7/site-packages (from gdown->gcpds-databases==0.1) (4.11.1)\r\n",
      "Requirement already satisfied: six in /opt/conda/lib/python3.7/site-packages (from gdown->gcpds-databases==0.1) (1.15.0)\r\n",
      "Requirement already satisfied: filelock in /opt/conda/lib/python3.7/site-packages (from gdown->gcpds-databases==0.1) (3.7.1)\r\n",
      "Requirement already satisfied: kiwisolver>=1.0.1 in /opt/conda/lib/python3.7/site-packages (from matplotlib->gcpds-databases==0.1) (1.4.3)\r\n",
      "Requirement already satisfied: fonttools>=4.22.0 in /opt/conda/lib/python3.7/site-packages (from matplotlib->gcpds-databases==0.1) (4.33.3)\r\n",
      "Requirement already satisfied: python-dateutil>=2.7 in /opt/conda/lib/python3.7/site-packages (from matplotlib->gcpds-databases==0.1) (2.8.2)\r\n",
      "Requirement already satisfied: pillow>=6.2.0 in /opt/conda/lib/python3.7/site-packages (from matplotlib->gcpds-databases==0.1) (9.1.1)\r\n",
      "Requirement already satisfied: pyparsing>=2.2.1 in /opt/conda/lib/python3.7/site-packages (from matplotlib->gcpds-databases==0.1) (3.0.9)\r\n",
      "Requirement already satisfied: packaging>=20.0 in /opt/conda/lib/python3.7/site-packages (from matplotlib->gcpds-databases==0.1) (21.3)\r\n",
      "Requirement already satisfied: cycler>=0.10 in /opt/conda/lib/python3.7/site-packages (from matplotlib->gcpds-databases==0.1) (0.11.0)\r\n",
      "Requirement already satisfied: jinja2 in /opt/conda/lib/python3.7/site-packages (from mne->gcpds-databases==0.1) (3.1.2)\r\n",
      "Requirement already satisfied: decorator in /opt/conda/lib/python3.7/site-packages (from mne->gcpds-databases==0.1) (5.1.1)\r\n",
      "Requirement already satisfied: pooch>=1.5 in /opt/conda/lib/python3.7/site-packages (from mne->gcpds-databases==0.1) (1.6.0)\r\n",
      "Requirement already satisfied: numexpr>=2.6.2 in /opt/conda/lib/python3.7/site-packages (from tables->gcpds-databases==0.1) (2.8.3)\r\n",
      "Requirement already satisfied: typing-extensions in /opt/conda/lib/python3.7/site-packages (from kiwisolver>=1.0.1->matplotlib->gcpds-databases==0.1) (4.1.1)\r\n",
      "Requirement already satisfied: appdirs>=1.3.0 in /opt/conda/lib/python3.7/site-packages (from pooch>=1.5->mne->gcpds-databases==0.1) (1.4.4)\r\n",
      "Requirement already satisfied: soupsieve>1.2 in /opt/conda/lib/python3.7/site-packages (from beautifulsoup4->gdown->gcpds-databases==0.1) (2.3.1)\r\n",
      "Requirement already satisfied: MarkupSafe>=2.0 in /opt/conda/lib/python3.7/site-packages (from jinja2->mne->gcpds-databases==0.1) (2.1.1)\r\n",
      "Requirement already satisfied: idna<4,>=2.5 in /opt/conda/lib/python3.7/site-packages (from requests[socks]->gdown->gcpds-databases==0.1) (3.3)\r\n",
      "Requirement already satisfied: urllib3<1.27,>=1.21.1 in /opt/conda/lib/python3.7/site-packages (from requests[socks]->gdown->gcpds-databases==0.1) (1.26.12)\r\n",
      "Requirement already satisfied: certifi>=2017.4.17 in /opt/conda/lib/python3.7/site-packages (from requests[socks]->gdown->gcpds-databases==0.1) (2022.9.24)\r\n",
      "Requirement already satisfied: charset-normalizer<3,>=2 in /opt/conda/lib/python3.7/site-packages (from requests[socks]->gdown->gcpds-databases==0.1) (2.1.0)\r\n",
      "Requirement already satisfied: PySocks!=1.5.7,>=1.5.6 in /opt/conda/lib/python3.7/site-packages (from requests[socks]->gdown->gcpds-databases==0.1) (1.7.1)\r\n",
      "Building wheels for collected packages: gcpds-databases\r\n",
      "  Building wheel for gcpds-databases (setup.py) ... \u001b[?25l-\b \b\\\b \bdone\r\n",
      "\u001b[?25h  Created wheel for gcpds-databases: filename=gcpds_databases-0.1-py3-none-any.whl size=94403 sha256=595b7d8fd7f8b5272734873a9180b24241f43612021138b666ca34c06461b73d\r\n",
      "  Stored in directory: /tmp/pip-ephem-wheel-cache-p5m0bdak/wheels/79/4b/1f/296de92be9330ad773263d339cbde2b5aff8e9514d41fb6798\r\n",
      "Successfully built gcpds-databases\r\n",
      "Installing collected packages: gdown, gcpds-databases\r\n",
      "Successfully installed gcpds-databases-0.1 gdown-4.5.4\r\n",
      "\u001b[33mWARNING: Running pip as the 'root' user can result in broken permissions and conflicting behaviour with the system package manager. It is recommended to use a virtual environment instead: https://pip.pypa.io/warnings/venv\u001b[0m\u001b[33m\r\n",
      "\u001b[0mCollecting git+https://github.com/UN-GCPDS/python-gcpds.EEG_Tensorflow_models.git\r\n",
      "  Cloning https://github.com/UN-GCPDS/python-gcpds.EEG_Tensorflow_models.git to /tmp/pip-req-build-d0phnh9u\r\n",
      "  Running command git clone --filter=blob:none --quiet https://github.com/UN-GCPDS/python-gcpds.EEG_Tensorflow_models.git /tmp/pip-req-build-d0phnh9u\r\n",
      "  Resolved https://github.com/UN-GCPDS/python-gcpds.EEG_Tensorflow_models.git to commit 7b5df3b37ab5c6b9fe0805ab735a875cd4541cf5\r\n",
      "  Preparing metadata (setup.py) ... \u001b[?25l-\b \bdone\r\n",
      "\u001b[?25hCollecting braindecode@ git+https://github.com/braindecode/braindecode\r\n",
      "  Cloning https://github.com/braindecode/braindecode to /tmp/pip-install-qs6drvp6/braindecode_3aad407f5cc546a5b88bec2693745202\r\n",
      "  Running command git clone --filter=blob:none --quiet https://github.com/braindecode/braindecode /tmp/pip-install-qs6drvp6/braindecode_3aad407f5cc546a5b88bec2693745202\r\n",
      "  Resolved https://github.com/braindecode/braindecode to commit 114c3ecb1bb9b3098755dfa5ffa663bb6c99693a\r\n",
      "  Preparing metadata (setup.py) ... \u001b[?25l-\b \bdone\r\n",
      "\u001b[?25hCollecting moabb@ git+https://github.com/UN-GCPDS/moabb.git\r\n",
      "  Cloning https://github.com/UN-GCPDS/moabb.git to /tmp/pip-install-qs6drvp6/moabb_326bfa3241a94570986566147e4cb0ec\r\n",
      "  Running command git clone --filter=blob:none --quiet https://github.com/UN-GCPDS/moabb.git /tmp/pip-install-qs6drvp6/moabb_326bfa3241a94570986566147e4cb0ec\r\n",
      "  Resolved https://github.com/UN-GCPDS/moabb.git to commit 57e31a78ab21cb27aad4182d76133303ed574ce9\r\n",
      "  Preparing metadata (setup.py) ... \u001b[?25l-\b \bdone\r\n",
      "\u001b[?25hRequirement already satisfied: tensorflow-addons in /opt/conda/lib/python3.7/site-packages (from EEG-Tensorflow-models==0.1) (0.14.0)\r\n",
      "Collecting tensorflow>=2.8\r\n",
      "  Downloading tensorflow-2.11.0-cp37-cp37m-manylinux_2_17_x86_64.manylinux2014_x86_64.whl (588.3 MB)\r\n",
      "\u001b[2K     \u001b[90m━━━━━━━━━━━━━━━━━━━━━━━━━━━━━━━━━━━━━━━\u001b[0m \u001b[32m588.3/588.3 MB\u001b[0m \u001b[31m1.3 MB/s\u001b[0m eta \u001b[36m0:00:00\u001b[0m\r\n",
      "\u001b[?25hCollecting tf-keras-vis\r\n",
      "  Downloading tf_keras_vis-0.8.4-py3-none-any.whl (52 kB)\r\n",
      "\u001b[2K     \u001b[90m━━━━━━━━━━━━━━━━━━━━━━━━━━━━━━━━━━━━━━━━\u001b[0m \u001b[32m52.1/52.1 kB\u001b[0m \u001b[31m4.9 MB/s\u001b[0m eta \u001b[36m0:00:00\u001b[0m\r\n",
      "\u001b[?25hRequirement already satisfied: termcolor>=1.1.0 in /opt/conda/lib/python3.7/site-packages (from tensorflow>=2.8->EEG-Tensorflow-models==0.1) (1.1.0)\r\n",
      "Collecting flatbuffers>=2.0\r\n",
      "  Downloading flatbuffers-22.11.23-py2.py3-none-any.whl (26 kB)\r\n",
      "Collecting tensorflow-io-gcs-filesystem>=0.23.1\r\n",
      "  Downloading tensorflow_io_gcs_filesystem-0.28.0-cp37-cp37m-manylinux_2_12_x86_64.manylinux2010_x86_64.whl (2.4 MB)\r\n",
      "\u001b[2K     \u001b[90m━━━━━━━━━━━━━━━━━━━━━━━━━━━━━━━━━━━━━━━━\u001b[0m \u001b[32m2.4/2.4 MB\u001b[0m \u001b[31m48.2 MB/s\u001b[0m eta \u001b[36m0:00:00\u001b[0m\r\n",
      "\u001b[?25hCollecting tensorboard<2.12,>=2.11\r\n",
      "  Downloading tensorboard-2.11.0-py3-none-any.whl (6.0 MB)\r\n",
      "\u001b[2K     \u001b[90m━━━━━━━━━━━━━━━━━━━━━━━━━━━━━━━━━━━━━━━━\u001b[0m \u001b[32m6.0/6.0 MB\u001b[0m \u001b[31m23.3 MB/s\u001b[0m eta \u001b[36m0:00:00\u001b[0m\r\n",
      "\u001b[?25hCollecting tensorflow-estimator<2.12,>=2.11.0\r\n",
      "  Downloading tensorflow_estimator-2.11.0-py2.py3-none-any.whl (439 kB)\r\n",
      "\u001b[2K     \u001b[90m━━━━━━━━━━━━━━━━━━━━━━━━━━━━━━━━━━━━━━\u001b[0m \u001b[32m439.2/439.2 kB\u001b[0m \u001b[31m35.1 MB/s\u001b[0m eta \u001b[36m0:00:00\u001b[0m\r\n",
      "\u001b[?25hCollecting libclang>=13.0.0\r\n",
      "  Downloading libclang-14.0.6-py2.py3-none-manylinux2010_x86_64.whl (14.1 MB)\r\n",
      "\u001b[2K     \u001b[90m━━━━━━━━━━━━━━━━━━━━━━━━━━━━━━━━━━━━━━━━\u001b[0m \u001b[32m14.1/14.1 MB\u001b[0m \u001b[31m16.8 MB/s\u001b[0m eta \u001b[36m0:00:00\u001b[0m\r\n",
      "\u001b[?25hRequirement already satisfied: google-pasta>=0.1.1 in /opt/conda/lib/python3.7/site-packages (from tensorflow>=2.8->EEG-Tensorflow-models==0.1) (0.2.0)\r\n",
      "Requirement already satisfied: setuptools in /opt/conda/lib/python3.7/site-packages (from tensorflow>=2.8->EEG-Tensorflow-models==0.1) (59.8.0)\r\n",
      "Requirement already satisfied: six>=1.12.0 in /opt/conda/lib/python3.7/site-packages (from tensorflow>=2.8->EEG-Tensorflow-models==0.1) (1.15.0)\r\n",
      "Requirement already satisfied: typing-extensions>=3.6.6 in /opt/conda/lib/python3.7/site-packages (from tensorflow>=2.8->EEG-Tensorflow-models==0.1) (4.1.1)\r\n",
      "Requirement already satisfied: gast<=0.4.0,>=0.2.1 in /opt/conda/lib/python3.7/site-packages (from tensorflow>=2.8->EEG-Tensorflow-models==0.1) (0.4.0)\r\n",
      "Requirement already satisfied: protobuf<3.20,>=3.9.2 in /opt/conda/lib/python3.7/site-packages (from tensorflow>=2.8->EEG-Tensorflow-models==0.1) (3.19.4)\r\n",
      "Collecting keras<2.12,>=2.11.0\r\n",
      "  Downloading keras-2.11.0-py2.py3-none-any.whl (1.7 MB)\r\n",
      "\u001b[2K     \u001b[90m━━━━━━━━━━━━━━━━━━━━━━━━━━━━━━━━━━━━━━━━\u001b[0m \u001b[32m1.7/1.7 MB\u001b[0m \u001b[31m51.2 MB/s\u001b[0m eta \u001b[36m0:00:00\u001b[0m\r\n",
      "\u001b[?25hRequirement already satisfied: astunparse>=1.6.0 in /opt/conda/lib/python3.7/site-packages (from tensorflow>=2.8->EEG-Tensorflow-models==0.1) (1.6.3)\r\n",
      "Requirement already satisfied: packaging in /opt/conda/lib/python3.7/site-packages (from tensorflow>=2.8->EEG-Tensorflow-models==0.1) (21.3)\r\n",
      "Requirement already satisfied: wrapt>=1.11.0 in /opt/conda/lib/python3.7/site-packages (from tensorflow>=2.8->EEG-Tensorflow-models==0.1) (1.12.1)\r\n",
      "Requirement already satisfied: h5py>=2.9.0 in /opt/conda/lib/python3.7/site-packages (from tensorflow>=2.8->EEG-Tensorflow-models==0.1) (3.7.0)\r\n",
      "Requirement already satisfied: grpcio<2.0,>=1.24.3 in /opt/conda/lib/python3.7/site-packages (from tensorflow>=2.8->EEG-Tensorflow-models==0.1) (1.43.0)\r\n",
      "Collecting absl-py>=1.0.0\r\n",
      "  Downloading absl_py-1.3.0-py3-none-any.whl (124 kB)\r\n",
      "\u001b[2K     \u001b[90m━━━━━━━━━━━━━━━━━━━━━━━━━━━━━━━━━━━━━━━\u001b[0m \u001b[32m124.6/124.6 kB\u001b[0m \u001b[31m9.7 MB/s\u001b[0m eta \u001b[36m0:00:00\u001b[0m\r\n",
      "\u001b[?25hRequirement already satisfied: opt-einsum>=2.3.2 in /opt/conda/lib/python3.7/site-packages (from tensorflow>=2.8->EEG-Tensorflow-models==0.1) (3.3.0)\r\n",
      "Requirement already satisfied: numpy>=1.20 in /opt/conda/lib/python3.7/site-packages (from tensorflow>=2.8->EEG-Tensorflow-models==0.1) (1.21.6)\r\n",
      "Requirement already satisfied: mne in /opt/conda/lib/python3.7/site-packages (from braindecode@ git+https://github.com/braindecode/braindecode->EEG-Tensorflow-models==0.1) (1.2.0)\r\n",
      "Requirement already satisfied: pandas in /opt/conda/lib/python3.7/site-packages (from braindecode@ git+https://github.com/braindecode/braindecode->EEG-Tensorflow-models==0.1) (1.3.5)\r\n",
      "Requirement already satisfied: scipy in /opt/conda/lib/python3.7/site-packages (from braindecode@ git+https://github.com/braindecode/braindecode->EEG-Tensorflow-models==0.1) (1.7.3)\r\n",
      "Requirement already satisfied: matplotlib in /opt/conda/lib/python3.7/site-packages (from braindecode@ git+https://github.com/braindecode/braindecode->EEG-Tensorflow-models==0.1) (3.5.3)\r\n",
      "Collecting skorch\r\n",
      "  Downloading skorch-0.12.1-py3-none-any.whl (193 kB)\r\n",
      "\u001b[2K     \u001b[90m━━━━━━━━━━━━━━━━━━━━━━━━━━━━━━━━━━━━━━\u001b[0m \u001b[32m193.7/193.7 kB\u001b[0m \u001b[31m19.2 MB/s\u001b[0m eta \u001b[36m0:00:00\u001b[0m\r\n",
      "\u001b[?25hRequirement already satisfied: typeguard>=2.7 in /opt/conda/lib/python3.7/site-packages (from tensorflow-addons->EEG-Tensorflow-models==0.1) (2.13.3)\r\n",
      "Requirement already satisfied: pillow in /opt/conda/lib/python3.7/site-packages (from tf-keras-vis->EEG-Tensorflow-models==0.1) (9.1.1)\r\n",
      "Requirement already satisfied: imageio in /opt/conda/lib/python3.7/site-packages (from tf-keras-vis->EEG-Tensorflow-models==0.1) (2.19.3)\r\n",
      "Collecting deprecated\r\n",
      "  Downloading Deprecated-1.2.13-py2.py3-none-any.whl (9.6 kB)\r\n",
      "Requirement already satisfied: importlib-metadata in /opt/conda/lib/python3.7/site-packages (from tf-keras-vis->EEG-Tensorflow-models==0.1) (4.13.0)\r\n",
      "Requirement already satisfied: wheel<1.0,>=0.23.0 in /opt/conda/lib/python3.7/site-packages (from astunparse>=1.6.0->tensorflow>=2.8->EEG-Tensorflow-models==0.1) (0.37.1)\r\n",
      "Requirement already satisfied: tensorboard-plugin-wit>=1.6.0 in /opt/conda/lib/python3.7/site-packages (from tensorboard<2.12,>=2.11->tensorflow>=2.8->EEG-Tensorflow-models==0.1) (1.8.1)\r\n",
      "Requirement already satisfied: werkzeug>=1.0.1 in /opt/conda/lib/python3.7/site-packages (from tensorboard<2.12,>=2.11->tensorflow>=2.8->EEG-Tensorflow-models==0.1) (2.2.2)\r\n",
      "Requirement already satisfied: google-auth-oauthlib<0.5,>=0.4.1 in /opt/conda/lib/python3.7/site-packages (from tensorboard<2.12,>=2.11->tensorflow>=2.8->EEG-Tensorflow-models==0.1) (0.4.6)\r\n",
      "Requirement already satisfied: tensorboard-data-server<0.7.0,>=0.6.0 in /opt/conda/lib/python3.7/site-packages (from tensorboard<2.12,>=2.11->tensorflow>=2.8->EEG-Tensorflow-models==0.1) (0.6.1)\r\n",
      "Requirement already satisfied: requests<3,>=2.21.0 in /opt/conda/lib/python3.7/site-packages (from tensorboard<2.12,>=2.11->tensorflow>=2.8->EEG-Tensorflow-models==0.1) (2.28.1)\r\n",
      "Requirement already satisfied: google-auth<3,>=1.6.3 in /opt/conda/lib/python3.7/site-packages (from tensorboard<2.12,>=2.11->tensorflow>=2.8->EEG-Tensorflow-models==0.1) (1.35.0)\r\n",
      "Requirement already satisfied: markdown>=2.6.8 in /opt/conda/lib/python3.7/site-packages (from tensorboard<2.12,>=2.11->tensorflow>=2.8->EEG-Tensorflow-models==0.1) (3.3.7)\r\n",
      "Requirement already satisfied: zipp>=0.5 in /opt/conda/lib/python3.7/site-packages (from importlib-metadata->tf-keras-vis->EEG-Tensorflow-models==0.1) (3.8.0)\r\n",
      "Requirement already satisfied: cycler>=0.10 in /opt/conda/lib/python3.7/site-packages (from matplotlib->braindecode@ git+https://github.com/braindecode/braindecode->EEG-Tensorflow-models==0.1) (0.11.0)\r\n",
      "Requirement already satisfied: fonttools>=4.22.0 in /opt/conda/lib/python3.7/site-packages (from matplotlib->braindecode@ git+https://github.com/braindecode/braindecode->EEG-Tensorflow-models==0.1) (4.33.3)\r\n",
      "Requirement already satisfied: pyparsing>=2.2.1 in /opt/conda/lib/python3.7/site-packages (from matplotlib->braindecode@ git+https://github.com/braindecode/braindecode->EEG-Tensorflow-models==0.1) (3.0.9)\r\n",
      "Requirement already satisfied: kiwisolver>=1.0.1 in /opt/conda/lib/python3.7/site-packages (from matplotlib->braindecode@ git+https://github.com/braindecode/braindecode->EEG-Tensorflow-models==0.1) (1.4.3)\r\n",
      "Requirement already satisfied: python-dateutil>=2.7 in /opt/conda/lib/python3.7/site-packages (from matplotlib->braindecode@ git+https://github.com/braindecode/braindecode->EEG-Tensorflow-models==0.1) (2.8.2)\r\n",
      "Requirement already satisfied: tqdm in /opt/conda/lib/python3.7/site-packages (from mne->braindecode@ git+https://github.com/braindecode/braindecode->EEG-Tensorflow-models==0.1) (4.64.0)\r\n",
      "Requirement already satisfied: decorator in /opt/conda/lib/python3.7/site-packages (from mne->braindecode@ git+https://github.com/braindecode/braindecode->EEG-Tensorflow-models==0.1) (5.1.1)\r\n",
      "Requirement already satisfied: jinja2 in /opt/conda/lib/python3.7/site-packages (from mne->braindecode@ git+https://github.com/braindecode/braindecode->EEG-Tensorflow-models==0.1) (3.1.2)\r\n",
      "Requirement already satisfied: pooch>=1.5 in /opt/conda/lib/python3.7/site-packages (from mne->braindecode@ git+https://github.com/braindecode/braindecode->EEG-Tensorflow-models==0.1) (1.6.0)\r\n",
      "Requirement already satisfied: pytz>=2017.3 in /opt/conda/lib/python3.7/site-packages (from pandas->braindecode@ git+https://github.com/braindecode/braindecode->EEG-Tensorflow-models==0.1) (2022.1)\r\n",
      "Requirement already satisfied: tabulate>=0.7.7 in /opt/conda/lib/python3.7/site-packages (from skorch->braindecode@ git+https://github.com/braindecode/braindecode->EEG-Tensorflow-models==0.1) (0.9.0)\r\n",
      "Requirement already satisfied: scikit-learn>=0.22.0 in /opt/conda/lib/python3.7/site-packages (from skorch->braindecode@ git+https://github.com/braindecode/braindecode->EEG-Tensorflow-models==0.1) (1.0.2)\r\n",
      "Requirement already satisfied: pyasn1-modules>=0.2.1 in /opt/conda/lib/python3.7/site-packages (from google-auth<3,>=1.6.3->tensorboard<2.12,>=2.11->tensorflow>=2.8->EEG-Tensorflow-models==0.1) (0.2.7)\r\n",
      "Requirement already satisfied: cachetools<5.0,>=2.0.0 in /opt/conda/lib/python3.7/site-packages (from google-auth<3,>=1.6.3->tensorboard<2.12,>=2.11->tensorflow>=2.8->EEG-Tensorflow-models==0.1) (4.2.4)\r\n",
      "Requirement already satisfied: rsa<5,>=3.1.4 in /opt/conda/lib/python3.7/site-packages (from google-auth<3,>=1.6.3->tensorboard<2.12,>=2.11->tensorflow>=2.8->EEG-Tensorflow-models==0.1) (4.8)\r\n",
      "Requirement already satisfied: requests-oauthlib>=0.7.0 in /opt/conda/lib/python3.7/site-packages (from google-auth-oauthlib<0.5,>=0.4.1->tensorboard<2.12,>=2.11->tensorflow>=2.8->EEG-Tensorflow-models==0.1) (1.3.1)\r\n",
      "Requirement already satisfied: appdirs>=1.3.0 in /opt/conda/lib/python3.7/site-packages (from pooch>=1.5->mne->braindecode@ git+https://github.com/braindecode/braindecode->EEG-Tensorflow-models==0.1) (1.4.4)\r\n",
      "Requirement already satisfied: charset-normalizer<3,>=2 in /opt/conda/lib/python3.7/site-packages (from requests<3,>=2.21.0->tensorboard<2.12,>=2.11->tensorflow>=2.8->EEG-Tensorflow-models==0.1) (2.1.0)\r\n",
      "Requirement already satisfied: idna<4,>=2.5 in /opt/conda/lib/python3.7/site-packages (from requests<3,>=2.21.0->tensorboard<2.12,>=2.11->tensorflow>=2.8->EEG-Tensorflow-models==0.1) (3.3)\r\n",
      "Requirement already satisfied: certifi>=2017.4.17 in /opt/conda/lib/python3.7/site-packages (from requests<3,>=2.21.0->tensorboard<2.12,>=2.11->tensorflow>=2.8->EEG-Tensorflow-models==0.1) (2022.9.24)\r\n",
      "Requirement already satisfied: urllib3<1.27,>=1.21.1 in /opt/conda/lib/python3.7/site-packages (from requests<3,>=2.21.0->tensorboard<2.12,>=2.11->tensorflow>=2.8->EEG-Tensorflow-models==0.1) (1.26.12)\r\n",
      "Requirement already satisfied: threadpoolctl>=2.0.0 in /opt/conda/lib/python3.7/site-packages (from scikit-learn>=0.22.0->skorch->braindecode@ git+https://github.com/braindecode/braindecode->EEG-Tensorflow-models==0.1) (3.1.0)\r\n",
      "Requirement already satisfied: joblib>=0.11 in /opt/conda/lib/python3.7/site-packages (from scikit-learn>=0.22.0->skorch->braindecode@ git+https://github.com/braindecode/braindecode->EEG-Tensorflow-models==0.1) (1.0.1)\r\n",
      "Requirement already satisfied: MarkupSafe>=2.1.1 in /opt/conda/lib/python3.7/site-packages (from werkzeug>=1.0.1->tensorboard<2.12,>=2.11->tensorflow>=2.8->EEG-Tensorflow-models==0.1) (2.1.1)\r\n",
      "Requirement already satisfied: pyasn1<0.5.0,>=0.4.6 in /opt/conda/lib/python3.7/site-packages (from pyasn1-modules>=0.2.1->google-auth<3,>=1.6.3->tensorboard<2.12,>=2.11->tensorflow>=2.8->EEG-Tensorflow-models==0.1) (0.4.8)\r\n",
      "Requirement already satisfied: oauthlib>=3.0.0 in /opt/conda/lib/python3.7/site-packages (from requests-oauthlib>=0.7.0->google-auth-oauthlib<0.5,>=0.4.1->tensorboard<2.12,>=2.11->tensorflow>=2.8->EEG-Tensorflow-models==0.1) (3.2.0)\r\n",
      "Building wheels for collected packages: EEG-Tensorflow-models, braindecode, moabb\r\n",
      "  Building wheel for EEG-Tensorflow-models (setup.py) ... \u001b[?25l-\b \b\\\b \bdone\r\n",
      "\u001b[?25h  Created wheel for EEG-Tensorflow-models: filename=EEG_Tensorflow_models-0.1-py3-none-any.whl size=29424 sha256=54cfa194a0699959a44934c88860b7f1ab51a3b911bdb783dca26ab78733b7f3\r\n",
      "  Stored in directory: /tmp/pip-ephem-wheel-cache-w3594et9/wheels/bf/4b/12/19a9dd88261c8d2242528ebdea446366b38ccad921dcf97cb6\r\n",
      "  Building wheel for braindecode (setup.py) ... \u001b[?25l-\b \b\\\b \bdone\r\n",
      "\u001b[?25h  Created wheel for braindecode: filename=Braindecode-0.7-py3-none-any.whl size=197249 sha256=63cf30525d5bda0bcf54a0d7d7e0b1035a0407d8797dfe1b8a249e68bdfe7fdf\r\n",
      "  Stored in directory: /tmp/pip-ephem-wheel-cache-w3594et9/wheels/2f/16/dd/7682b0b56fd1e08bd65c9b3873adc60e9edb2bc74c8cab30d8\r\n",
      "  Building wheel for moabb (setup.py) ... \u001b[?25l-\b \b\\\b \bdone\r\n",
      "\u001b[?25h  Created wheel for moabb: filename=moabb-0.1-py3-none-any.whl size=123480 sha256=4a1ba64d4b9d13fd5b433b806ee74d36ebb2d35aaf72ad291434c0f156e7735a\r\n",
      "  Stored in directory: /tmp/pip-ephem-wheel-cache-w3594et9/wheels/a3/ea/90/3b7a519b1650786b3c41733b7dffc21b9c760026dd53046c1c\r\n",
      "Successfully built EEG-Tensorflow-models braindecode moabb\r\n",
      "Installing collected packages: libclang, flatbuffers, tensorflow-io-gcs-filesystem, tensorflow-estimator, moabb, keras, deprecated, absl-py, tf-keras-vis, skorch, tensorboard, braindecode, tensorflow, EEG-Tensorflow-models\r\n",
      "  Attempting uninstall: flatbuffers\r\n",
      "    Found existing installation: flatbuffers 1.12\r\n",
      "    Uninstalling flatbuffers-1.12:\r\n",
      "      Successfully uninstalled flatbuffers-1.12\r\n",
      "  Attempting uninstall: tensorflow-estimator\r\n",
      "    Found existing installation: tensorflow-estimator 2.6.0\r\n",
      "    Uninstalling tensorflow-estimator-2.6.0:\r\n",
      "      Successfully uninstalled tensorflow-estimator-2.6.0\r\n",
      "  Attempting uninstall: keras\r\n",
      "    Found existing installation: keras 2.6.0\r\n",
      "    Uninstalling keras-2.6.0:\r\n",
      "      Successfully uninstalled keras-2.6.0\r\n",
      "  Attempting uninstall: absl-py\r\n",
      "    Found existing installation: absl-py 0.15.0\r\n",
      "    Uninstalling absl-py-0.15.0:\r\n",
      "      Successfully uninstalled absl-py-0.15.0\r\n",
      "  Attempting uninstall: tensorboard\r\n",
      "    Found existing installation: tensorboard 2.10.1\r\n",
      "    Uninstalling tensorboard-2.10.1:\r\n",
      "      Successfully uninstalled tensorboard-2.10.1\r\n",
      "  Attempting uninstall: tensorflow\r\n",
      "    Found existing installation: tensorflow 2.6.4\r\n",
      "    Uninstalling tensorflow-2.6.4:\r\n",
      "      Successfully uninstalled tensorflow-2.6.4\r\n",
      "\u001b[31mERROR: pip's dependency resolver does not currently take into account all the packages that are installed. This behaviour is the source of the following dependency conflicts.\r\n",
      "tensorflow-transform 1.9.0 requires tensorflow!=2.0.*,!=2.1.*,!=2.2.*,!=2.3.*,!=2.4.*,!=2.5.*,!=2.6.*,!=2.7.*,!=2.8.*,<2.10,>=1.15.5, but you have tensorflow 2.11.0 which is incompatible.\r\n",
      "tensorflow-io 0.21.0 requires tensorflow<2.7.0,>=2.6.0, but you have tensorflow 2.11.0 which is incompatible.\r\n",
      "tensorflow-io 0.21.0 requires tensorflow-io-gcs-filesystem==0.21.0, but you have tensorflow-io-gcs-filesystem 0.28.0 which is incompatible.\u001b[0m\u001b[31m\r\n",
      "\u001b[0mSuccessfully installed EEG-Tensorflow-models-0.1 absl-py-1.3.0 braindecode-0.7 deprecated-1.2.13 flatbuffers-22.11.23 keras-2.11.0 libclang-14.0.6 moabb-0.1 skorch-0.12.1 tensorboard-2.11.0 tensorflow-2.11.0 tensorflow-estimator-2.11.0 tensorflow-io-gcs-filesystem-0.28.0 tf-keras-vis-0.8.4\r\n",
      "\u001b[33mWARNING: Running pip as the 'root' user can result in broken permissions and conflicting behaviour with the system package manager. It is recommended to use a virtual environment instead: https://pip.pypa.io/warnings/venv\u001b[0m\u001b[33m\r\n",
      "\u001b[0mRequirement already satisfied: mne in /opt/conda/lib/python3.7/site-packages (1.2.0)\r\n",
      "Requirement already satisfied: decorator in /opt/conda/lib/python3.7/site-packages (from mne) (5.1.1)\r\n",
      "Requirement already satisfied: tqdm in /opt/conda/lib/python3.7/site-packages (from mne) (4.64.0)\r\n",
      "Requirement already satisfied: packaging in /opt/conda/lib/python3.7/site-packages (from mne) (21.3)\r\n",
      "Requirement already satisfied: pooch>=1.5 in /opt/conda/lib/python3.7/site-packages (from mne) (1.6.0)\r\n",
      "Requirement already satisfied: numpy>=1.15.4 in /opt/conda/lib/python3.7/site-packages (from mne) (1.21.6)\r\n",
      "Requirement already satisfied: jinja2 in /opt/conda/lib/python3.7/site-packages (from mne) (3.1.2)\r\n",
      "Requirement already satisfied: matplotlib in /opt/conda/lib/python3.7/site-packages (from mne) (3.5.3)\r\n",
      "Requirement already satisfied: scipy>=1.1.0 in /opt/conda/lib/python3.7/site-packages (from mne) (1.7.3)\r\n",
      "Requirement already satisfied: requests>=2.19.0 in /opt/conda/lib/python3.7/site-packages (from pooch>=1.5->mne) (2.28.1)\r\n",
      "Requirement already satisfied: appdirs>=1.3.0 in /opt/conda/lib/python3.7/site-packages (from pooch>=1.5->mne) (1.4.4)\r\n",
      "Requirement already satisfied: pyparsing!=3.0.5,>=2.0.2 in /opt/conda/lib/python3.7/site-packages (from packaging->mne) (3.0.9)\r\n",
      "Requirement already satisfied: MarkupSafe>=2.0 in /opt/conda/lib/python3.7/site-packages (from jinja2->mne) (2.1.1)\r\n",
      "Requirement already satisfied: python-dateutil>=2.7 in /opt/conda/lib/python3.7/site-packages (from matplotlib->mne) (2.8.2)\r\n",
      "Requirement already satisfied: pillow>=6.2.0 in /opt/conda/lib/python3.7/site-packages (from matplotlib->mne) (9.1.1)\r\n",
      "Requirement already satisfied: fonttools>=4.22.0 in /opt/conda/lib/python3.7/site-packages (from matplotlib->mne) (4.33.3)\r\n",
      "Requirement already satisfied: cycler>=0.10 in /opt/conda/lib/python3.7/site-packages (from matplotlib->mne) (0.11.0)\r\n",
      "Requirement already satisfied: kiwisolver>=1.0.1 in /opt/conda/lib/python3.7/site-packages (from matplotlib->mne) (1.4.3)\r\n",
      "Requirement already satisfied: typing-extensions in /opt/conda/lib/python3.7/site-packages (from kiwisolver>=1.0.1->matplotlib->mne) (4.1.1)\r\n",
      "Requirement already satisfied: six>=1.5 in /opt/conda/lib/python3.7/site-packages (from python-dateutil>=2.7->matplotlib->mne) (1.15.0)\r\n",
      "Requirement already satisfied: charset-normalizer<3,>=2 in /opt/conda/lib/python3.7/site-packages (from requests>=2.19.0->pooch>=1.5->mne) (2.1.0)\r\n",
      "Requirement already satisfied: certifi>=2017.4.17 in /opt/conda/lib/python3.7/site-packages (from requests>=2.19.0->pooch>=1.5->mne) (2022.9.24)\r\n",
      "Requirement already satisfied: urllib3<1.27,>=1.21.1 in /opt/conda/lib/python3.7/site-packages (from requests>=2.19.0->pooch>=1.5->mne) (1.26.12)\r\n",
      "Requirement already satisfied: idna<4,>=2.5 in /opt/conda/lib/python3.7/site-packages (from requests>=2.19.0->pooch>=1.5->mne) (3.3)\r\n",
      "\u001b[33mWARNING: Running pip as the 'root' user can result in broken permissions and conflicting behaviour with the system package manager. It is recommended to use a virtual environment instead: https://pip.pypa.io/warnings/venv\u001b[0m\u001b[33m\r\n",
      "\u001b[0mCollecting scikeras[tensorflow]\r\n",
      "  Downloading scikeras-0.9.0-py3-none-any.whl (27 kB)\r\n",
      "Requirement already satisfied: scikit-learn>=1.0.0 in /opt/conda/lib/python3.7/site-packages (from scikeras[tensorflow]) (1.0.2)\r\n",
      "Requirement already satisfied: importlib-metadata>=3 in /opt/conda/lib/python3.7/site-packages (from scikeras[tensorflow]) (4.13.0)\r\n",
      "Requirement already satisfied: packaging>=0.21 in /opt/conda/lib/python3.7/site-packages (from scikeras[tensorflow]) (21.3)\r\n",
      "Requirement already satisfied: tensorflow>=2.7.0 in /opt/conda/lib/python3.7/site-packages (from scikeras[tensorflow]) (2.11.0)\r\n",
      "Requirement already satisfied: zipp>=0.5 in /opt/conda/lib/python3.7/site-packages (from importlib-metadata>=3->scikeras[tensorflow]) (3.8.0)\r\n",
      "Requirement already satisfied: typing-extensions>=3.6.4 in /opt/conda/lib/python3.7/site-packages (from importlib-metadata>=3->scikeras[tensorflow]) (4.1.1)\r\n",
      "Requirement already satisfied: pyparsing!=3.0.5,>=2.0.2 in /opt/conda/lib/python3.7/site-packages (from packaging>=0.21->scikeras[tensorflow]) (3.0.9)\r\n",
      "Requirement already satisfied: threadpoolctl>=2.0.0 in /opt/conda/lib/python3.7/site-packages (from scikit-learn>=1.0.0->scikeras[tensorflow]) (3.1.0)\r\n",
      "Requirement already satisfied: scipy>=1.1.0 in /opt/conda/lib/python3.7/site-packages (from scikit-learn>=1.0.0->scikeras[tensorflow]) (1.7.3)\r\n",
      "Requirement already satisfied: numpy>=1.14.6 in /opt/conda/lib/python3.7/site-packages (from scikit-learn>=1.0.0->scikeras[tensorflow]) (1.21.6)\r\n",
      "Requirement already satisfied: joblib>=0.11 in /opt/conda/lib/python3.7/site-packages (from scikit-learn>=1.0.0->scikeras[tensorflow]) (1.0.1)\r\n",
      "Requirement already satisfied: astunparse>=1.6.0 in /opt/conda/lib/python3.7/site-packages (from tensorflow>=2.7.0->scikeras[tensorflow]) (1.6.3)\r\n",
      "Requirement already satisfied: tensorboard<2.12,>=2.11 in /opt/conda/lib/python3.7/site-packages (from tensorflow>=2.7.0->scikeras[tensorflow]) (2.11.0)\r\n",
      "Requirement already satisfied: google-pasta>=0.1.1 in /opt/conda/lib/python3.7/site-packages (from tensorflow>=2.7.0->scikeras[tensorflow]) (0.2.0)\r\n",
      "Requirement already satisfied: h5py>=2.9.0 in /opt/conda/lib/python3.7/site-packages (from tensorflow>=2.7.0->scikeras[tensorflow]) (3.7.0)\r\n",
      "Requirement already satisfied: tensorflow-io-gcs-filesystem>=0.23.1 in /opt/conda/lib/python3.7/site-packages (from tensorflow>=2.7.0->scikeras[tensorflow]) (0.28.0)\r\n",
      "Requirement already satisfied: flatbuffers>=2.0 in /opt/conda/lib/python3.7/site-packages (from tensorflow>=2.7.0->scikeras[tensorflow]) (22.11.23)\r\n",
      "Requirement already satisfied: opt-einsum>=2.3.2 in /opt/conda/lib/python3.7/site-packages (from tensorflow>=2.7.0->scikeras[tensorflow]) (3.3.0)\r\n",
      "Requirement already satisfied: tensorflow-estimator<2.12,>=2.11.0 in /opt/conda/lib/python3.7/site-packages (from tensorflow>=2.7.0->scikeras[tensorflow]) (2.11.0)\r\n",
      "Requirement already satisfied: protobuf<3.20,>=3.9.2 in /opt/conda/lib/python3.7/site-packages (from tensorflow>=2.7.0->scikeras[tensorflow]) (3.19.4)\r\n",
      "Requirement already satisfied: six>=1.12.0 in /opt/conda/lib/python3.7/site-packages (from tensorflow>=2.7.0->scikeras[tensorflow]) (1.15.0)\r\n",
      "Requirement already satisfied: wrapt>=1.11.0 in /opt/conda/lib/python3.7/site-packages (from tensorflow>=2.7.0->scikeras[tensorflow]) (1.12.1)\r\n",
      "Requirement already satisfied: gast<=0.4.0,>=0.2.1 in /opt/conda/lib/python3.7/site-packages (from tensorflow>=2.7.0->scikeras[tensorflow]) (0.4.0)\r\n",
      "Requirement already satisfied: setuptools in /opt/conda/lib/python3.7/site-packages (from tensorflow>=2.7.0->scikeras[tensorflow]) (59.8.0)\r\n",
      "Requirement already satisfied: libclang>=13.0.0 in /opt/conda/lib/python3.7/site-packages (from tensorflow>=2.7.0->scikeras[tensorflow]) (14.0.6)\r\n",
      "Requirement already satisfied: keras<2.12,>=2.11.0 in /opt/conda/lib/python3.7/site-packages (from tensorflow>=2.7.0->scikeras[tensorflow]) (2.11.0)\r\n",
      "Requirement already satisfied: absl-py>=1.0.0 in /opt/conda/lib/python3.7/site-packages (from tensorflow>=2.7.0->scikeras[tensorflow]) (1.3.0)\r\n",
      "Requirement already satisfied: grpcio<2.0,>=1.24.3 in /opt/conda/lib/python3.7/site-packages (from tensorflow>=2.7.0->scikeras[tensorflow]) (1.43.0)\r\n",
      "Requirement already satisfied: termcolor>=1.1.0 in /opt/conda/lib/python3.7/site-packages (from tensorflow>=2.7.0->scikeras[tensorflow]) (1.1.0)\r\n",
      "Requirement already satisfied: wheel<1.0,>=0.23.0 in /opt/conda/lib/python3.7/site-packages (from astunparse>=1.6.0->tensorflow>=2.7.0->scikeras[tensorflow]) (0.37.1)\r\n",
      "Requirement already satisfied: tensorboard-data-server<0.7.0,>=0.6.0 in /opt/conda/lib/python3.7/site-packages (from tensorboard<2.12,>=2.11->tensorflow>=2.7.0->scikeras[tensorflow]) (0.6.1)\r\n",
      "Requirement already satisfied: werkzeug>=1.0.1 in /opt/conda/lib/python3.7/site-packages (from tensorboard<2.12,>=2.11->tensorflow>=2.7.0->scikeras[tensorflow]) (2.2.2)\r\n",
      "Requirement already satisfied: markdown>=2.6.8 in /opt/conda/lib/python3.7/site-packages (from tensorboard<2.12,>=2.11->tensorflow>=2.7.0->scikeras[tensorflow]) (3.3.7)\r\n",
      "Requirement already satisfied: google-auth-oauthlib<0.5,>=0.4.1 in /opt/conda/lib/python3.7/site-packages (from tensorboard<2.12,>=2.11->tensorflow>=2.7.0->scikeras[tensorflow]) (0.4.6)\r\n",
      "Requirement already satisfied: requests<3,>=2.21.0 in /opt/conda/lib/python3.7/site-packages (from tensorboard<2.12,>=2.11->tensorflow>=2.7.0->scikeras[tensorflow]) (2.28.1)\r\n",
      "Requirement already satisfied: tensorboard-plugin-wit>=1.6.0 in /opt/conda/lib/python3.7/site-packages (from tensorboard<2.12,>=2.11->tensorflow>=2.7.0->scikeras[tensorflow]) (1.8.1)\r\n",
      "Requirement already satisfied: google-auth<3,>=1.6.3 in /opt/conda/lib/python3.7/site-packages (from tensorboard<2.12,>=2.11->tensorflow>=2.7.0->scikeras[tensorflow]) (1.35.0)\r\n",
      "Requirement already satisfied: rsa<5,>=3.1.4 in /opt/conda/lib/python3.7/site-packages (from google-auth<3,>=1.6.3->tensorboard<2.12,>=2.11->tensorflow>=2.7.0->scikeras[tensorflow]) (4.8)\r\n",
      "Requirement already satisfied: pyasn1-modules>=0.2.1 in /opt/conda/lib/python3.7/site-packages (from google-auth<3,>=1.6.3->tensorboard<2.12,>=2.11->tensorflow>=2.7.0->scikeras[tensorflow]) (0.2.7)\r\n",
      "Requirement already satisfied: cachetools<5.0,>=2.0.0 in /opt/conda/lib/python3.7/site-packages (from google-auth<3,>=1.6.3->tensorboard<2.12,>=2.11->tensorflow>=2.7.0->scikeras[tensorflow]) (4.2.4)\r\n",
      "Requirement already satisfied: requests-oauthlib>=0.7.0 in /opt/conda/lib/python3.7/site-packages (from google-auth-oauthlib<0.5,>=0.4.1->tensorboard<2.12,>=2.11->tensorflow>=2.7.0->scikeras[tensorflow]) (1.3.1)\r\n",
      "Requirement already satisfied: charset-normalizer<3,>=2 in /opt/conda/lib/python3.7/site-packages (from requests<3,>=2.21.0->tensorboard<2.12,>=2.11->tensorflow>=2.7.0->scikeras[tensorflow]) (2.1.0)\r\n",
      "Requirement already satisfied: certifi>=2017.4.17 in /opt/conda/lib/python3.7/site-packages (from requests<3,>=2.21.0->tensorboard<2.12,>=2.11->tensorflow>=2.7.0->scikeras[tensorflow]) (2022.9.24)\r\n",
      "Requirement already satisfied: idna<4,>=2.5 in /opt/conda/lib/python3.7/site-packages (from requests<3,>=2.21.0->tensorboard<2.12,>=2.11->tensorflow>=2.7.0->scikeras[tensorflow]) (3.3)\r\n",
      "Requirement already satisfied: urllib3<1.27,>=1.21.1 in /opt/conda/lib/python3.7/site-packages (from requests<3,>=2.21.0->tensorboard<2.12,>=2.11->tensorflow>=2.7.0->scikeras[tensorflow]) (1.26.12)\r\n",
      "Requirement already satisfied: MarkupSafe>=2.1.1 in /opt/conda/lib/python3.7/site-packages (from werkzeug>=1.0.1->tensorboard<2.12,>=2.11->tensorflow>=2.7.0->scikeras[tensorflow]) (2.1.1)\r\n",
      "Requirement already satisfied: pyasn1<0.5.0,>=0.4.6 in /opt/conda/lib/python3.7/site-packages (from pyasn1-modules>=0.2.1->google-auth<3,>=1.6.3->tensorboard<2.12,>=2.11->tensorflow>=2.7.0->scikeras[tensorflow]) (0.4.8)\r\n",
      "Requirement already satisfied: oauthlib>=3.0.0 in /opt/conda/lib/python3.7/site-packages (from requests-oauthlib>=0.7.0->google-auth-oauthlib<0.5,>=0.4.1->tensorboard<2.12,>=2.11->tensorflow>=2.7.0->scikeras[tensorflow]) (3.2.0)\r\n",
      "Installing collected packages: scikeras\r\n",
      "Successfully installed scikeras-0.9.0\r\n",
      "\u001b[33mWARNING: Running pip as the 'root' user can result in broken permissions and conflicting behaviour with the system package manager. It is recommended to use a virtual environment instead: https://pip.pypa.io/warnings/venv\u001b[0m\u001b[33m\r\n",
      "\u001b[0m--2022-11-26 17:05:49--  https://docs.google.com/uc?export=download&confirm=&id=1-bPsREsUCOiJHzIqi8DQrfSjTAf5VAW_\r\n",
      "Resolving docs.google.com (docs.google.com)... 173.194.214.101, 173.194.214.100, 173.194.214.138, ...\r\n",
      "Connecting to docs.google.com (docs.google.com)|173.194.214.101|:443... connected.\r\n",
      "HTTP request sent, awaiting response... 303 See Other\r\n",
      "Location: https://doc-0g-60-docs.googleusercontent.com/docs/securesc/ha0ro937gcuc7l7deffksulhg5h7mbp1/4qn48tv108a1ro2gs4q9tufml99je3v1/1669482300000/09711457892284675029/*/1-bPsREsUCOiJHzIqi8DQrfSjTAf5VAW_?e=download&uuid=02807627-c688-4937-9d79-618c57572892 [following]\r\n",
      "Warning: wildcards not supported in HTTP.\r\n",
      "--2022-11-26 17:05:49--  https://doc-0g-60-docs.googleusercontent.com/docs/securesc/ha0ro937gcuc7l7deffksulhg5h7mbp1/4qn48tv108a1ro2gs4q9tufml99je3v1/1669482300000/09711457892284675029/*/1-bPsREsUCOiJHzIqi8DQrfSjTAf5VAW_?e=download&uuid=02807627-c688-4937-9d79-618c57572892\r\n",
      "Resolving doc-0g-60-docs.googleusercontent.com (doc-0g-60-docs.googleusercontent.com)... 142.250.97.132, 2607:f8b0:400c:c18::84\r\n",
      "Connecting to doc-0g-60-docs.googleusercontent.com (doc-0g-60-docs.googleusercontent.com)|142.250.97.132|:443... connected.\r\n",
      "HTTP request sent, awaiting response... 200 OK\r\n",
      "Length: 51083 (50K) [application/zip]\r\n",
      "Saving to: ‘MI_EEG_ClassMeth.zip’\r\n",
      "\r\n",
      "MI_EEG_ClassMeth.zi 100%[===================>]  49.89K  --.-KB/s    in 0.001s  \r\n",
      "\r\n",
      "2022-11-26 17:05:50 (63.4 MB/s) - ‘MI_EEG_ClassMeth.zip’ saved [51083/51083]\r\n",
      "\r\n",
      "Archive:  MI_EEG_ClassMeth.zip\r\n",
      "   creating: MI_EEG_ClassMeth/\r\n",
      "  inflating: __MACOSX/._MI_EEG_ClassMeth  \r\n",
      "  inflating: MI_EEG_ClassMeth/utils.py  \r\n",
      "  inflating: __MACOSX/MI_EEG_ClassMeth/._utils.py  \r\n",
      "  inflating: MI_EEG_ClassMeth/FeatExtraction.py  \r\n",
      "  inflating: __MACOSX/MI_EEG_ClassMeth/._FeatExtraction.py  \r\n",
      "  inflating: MI_EEG_ClassMeth/__init__.py  \r\n",
      "  inflating: __MACOSX/MI_EEG_ClassMeth/.___init__.py  \r\n",
      "  inflating: MI_EEG_ClassMeth/modCSP.py  \r\n",
      "  inflating: __MACOSX/MI_EEG_ClassMeth/._modCSP.py  \r\n",
      "  inflating: MI_EEG_ClassMeth/MIfunctions.py  \r\n",
      "  inflating: __MACOSX/MI_EEG_ClassMeth/._MIfunctions.py  \r\n",
      "  inflating: MI_EEG_ClassMeth/Classifiers.py  \r\n",
      "  inflating: __MACOSX/MI_EEG_ClassMeth/._Classifiers.py  \r\n",
      "  inflating: MI_EEG_ClassMeth/FeatSelection.py  \r\n",
      "  inflating: __MACOSX/MI_EEG_ClassMeth/._FeatSelection.py  \r\n",
      "  inflating: MI_EEG_ClassMeth/Preprocessing.py  \r\n",
      "  inflating: __MACOSX/MI_EEG_ClassMeth/._Preprocessing.py  \r\n",
      "MI_EEG_ClassMeth  MI_EEG_ClassMeth.zip\t__MACOSX  __notebook__.ipynb\r\n"
     ]
    }
   ],
   "source": [
    "## only with GPU\n",
    "FILEID = \"1-bPsREsUCOiJHzIqi8DQrfSjTAf5VAW_\"\n",
    "!apt-get install --allow-change-held-packages libcudnn8=8.1.1.33-1+cuda11.2 -y\n",
    "!pip install -U git+https://github.com/UN-GCPDS/python-gcpds.databases\n",
    "!pip install -U git+https://github.com/UN-GCPDS/python-gcpds.EEG_Tensorflow_models.git\n",
    "!pip install mne\n",
    "!pip install scikeras[tensorflow]\n",
    "!wget --load-cookies /tmp/cookies.txt \"https://docs.google.com/uc?export=download&confirm=$(wget --quiet --save-cookies /tmp/cookies.txt --keep-session-cookies --no-check-certificate 'https://docs.google.com/uc?export=download&id='$FILEID -O- | sed -rn 's/.*confirm=([0-9A-Za-z_]+).*/\\1\\n/p')&id=\"$FILEID -O MI_EEG_ClassMeth.zip && rm -rf /tmp/cookies.txt\n",
    "!unzip MI_EEG_ClassMeth.zip #Package with useful functions for motor imagery classification based in EEG.\n",
    "!dir"
   ]
  },
  {
   "cell_type": "markdown",
   "id": "c4b57893",
   "metadata": {
    "papermill": {
     "duration": 0.054215,
     "end_time": "2022-11-26T17:05:52.388151",
     "exception": false,
     "start_time": "2022-11-26T17:05:52.333936",
     "status": "completed"
    },
    "tags": []
   },
   "source": [
    "## Import libraries"
   ]
  },
  {
   "cell_type": "code",
   "execution_count": 2,
   "id": "4fbc96f6",
   "metadata": {
    "execution": {
     "iopub.execute_input": "2022-11-26T17:05:52.501400Z",
     "iopub.status.busy": "2022-11-26T17:05:52.500696Z",
     "iopub.status.idle": "2022-11-26T17:05:59.566136Z",
     "shell.execute_reply": "2022-11-26T17:05:59.565152Z"
    },
    "papermill": {
     "duration": 7.123692,
     "end_time": "2022-11-26T17:05:59.568472",
     "exception": false,
     "start_time": "2022-11-26T17:05:52.444780",
     "status": "completed"
    },
    "tags": []
   },
   "outputs": [
    {
     "name": "stderr",
     "output_type": "stream",
     "text": [
      "2022-11-26 17:05:55.076479: I tensorflow/core/platform/cpu_feature_guard.cc:193] This TensorFlow binary is optimized with oneAPI Deep Neural Network Library (oneDNN) to use the following CPU instructions in performance-critical operations:  AVX2 AVX512F FMA\n",
      "To enable them in other operations, rebuild TensorFlow with the appropriate compiler flags.\n",
      "2022-11-26 17:05:56.144325: W tensorflow/compiler/xla/stream_executor/platform/default/dso_loader.cc:64] Could not load dynamic library 'libnvinfer.so.7'; dlerror: libnvinfer.so.7: cannot open shared object file: No such file or directory; LD_LIBRARY_PATH: /opt/conda/lib/python3.7/site-packages/cv2/../../lib64:/usr/local/cuda/lib64:/usr/local/cuda/lib:/usr/local/lib/x86_64-linux-gnu:/usr/local/nvidia/lib:/usr/local/nvidia/lib64:/usr/local/cuda/lib64:/usr/local/cuda/lib:/usr/local/lib/x86_64-linux-gnu:/usr/local/nvidia/lib:/usr/local/nvidia/lib64:/usr/local/nvidia/lib:/usr/local/nvidia/lib64\n",
      "2022-11-26 17:05:56.144568: W tensorflow/compiler/xla/stream_executor/platform/default/dso_loader.cc:64] Could not load dynamic library 'libnvinfer_plugin.so.7'; dlerror: libnvinfer_plugin.so.7: cannot open shared object file: No such file or directory; LD_LIBRARY_PATH: /opt/conda/lib/python3.7/site-packages/cv2/../../lib64:/usr/local/cuda/lib64:/usr/local/cuda/lib:/usr/local/lib/x86_64-linux-gnu:/usr/local/nvidia/lib:/usr/local/nvidia/lib64:/usr/local/cuda/lib64:/usr/local/cuda/lib:/usr/local/lib/x86_64-linux-gnu:/usr/local/nvidia/lib:/usr/local/nvidia/lib64:/usr/local/nvidia/lib:/usr/local/nvidia/lib64\n",
      "2022-11-26 17:05:56.144585: W tensorflow/compiler/tf2tensorrt/utils/py_utils.cc:38] TF-TRT Warning: Cannot dlopen some TensorRT libraries. If you would like to use Nvidia GPU with TensorRT, please make sure the missing libraries mentioned above are installed properly.\n"
     ]
    }
   ],
   "source": [
    "# gcpds datasets\n",
    "from gcpds.databases import GIGA_MI_ME\n",
    "from gcpds.databases.BCI_Competition_IV import Dataset_2a\n",
    "import gcpds.databases as loaddb\n",
    "\n",
    "# freq filter \n",
    "from MI_EEG_ClassMeth.FeatExtraction import TimeFrequencyRpr\n",
    "\n",
    "# general\n",
    "import numpy as np\n",
    "from scipy.signal import resample\n",
    "import pickle\n",
    "import warnings\n",
    "import mne\n",
    "from time import time\n",
    "warnings.filterwarnings('ignore')\n",
    "\n",
    "# tensorlfow \n",
    "import tensorflow as tf\n",
    "import tensorflow_probability as tfp\n",
    "from tensorflow.keras.models import Model\n",
    "from tensorflow.keras.layers import Dense, Activation, Dropout, Conv2D, AveragePooling2D, BatchNormalization, Input, Flatten\n",
    "from tensorflow.keras.constraints import max_norm\n",
    "from tensorflow.keras.layers import Layer\n",
    "from tensorflow.keras.regularizers import L1L2\n",
    "\n",
    "# scikeras\n",
    "from scikeras.wrappers import KerasClassifier\n",
    "from sklearn.model_selection import GridSearchCV,StratifiedShuffleSplit\n",
    "from sklearn.metrics import make_scorer\n",
    "from sklearn.metrics import accuracy_score, cohen_kappa_score, roc_auc_score"
   ]
  },
  {
   "cell_type": "markdown",
   "id": "0c7cc9e6",
   "metadata": {
    "papermill": {
     "duration": 0.053994,
     "end_time": "2022-11-26T17:05:59.678615",
     "exception": false,
     "start_time": "2022-11-26T17:05:59.624621",
     "status": "completed"
    },
    "tags": []
   },
   "source": [
    "## Define functions"
   ]
  },
  {
   "cell_type": "code",
   "execution_count": 3,
   "id": "c10af2e7",
   "metadata": {
    "execution": {
     "iopub.execute_input": "2022-11-26T17:05:59.788585Z",
     "iopub.status.busy": "2022-11-26T17:05:59.787684Z",
     "iopub.status.idle": "2022-11-26T17:05:59.793529Z",
     "shell.execute_reply": "2022-11-26T17:05:59.792541Z"
    },
    "papermill": {
     "duration": 0.06309,
     "end_time": "2022-11-26T17:05:59.795632",
     "exception": false,
     "start_time": "2022-11-26T17:05:59.732542",
     "status": "completed"
    },
    "tags": []
   },
   "outputs": [],
   "source": [
    "def kappa(y_true, y_pred):\n",
    "    return cohen_kappa_score(np.argmax(y_true, axis = 1),np.argmax(y_pred, axis = 1))"
   ]
  },
  {
   "cell_type": "markdown",
   "id": "199e91b6",
   "metadata": {
    "papermill": {
     "duration": 0.053915,
     "end_time": "2022-11-26T17:05:59.904123",
     "exception": false,
     "start_time": "2022-11-26T17:05:59.850208",
     "status": "completed"
    },
    "tags": []
   },
   "source": [
    "## GIGA Science dataset"
   ]
  },
  {
   "cell_type": "code",
   "execution_count": 4,
   "id": "22de03fc",
   "metadata": {
    "execution": {
     "iopub.execute_input": "2022-11-26T17:06:00.015066Z",
     "iopub.status.busy": "2022-11-26T17:06:00.014725Z",
     "iopub.status.idle": "2022-11-26T17:06:00.024432Z",
     "shell.execute_reply": "2022-11-26T17:06:00.023322Z"
    },
    "papermill": {
     "duration": 0.068327,
     "end_time": "2022-11-26T17:06:00.026970",
     "exception": false,
     "start_time": "2022-11-26T17:05:59.958643",
     "status": "completed"
    },
    "tags": []
   },
   "outputs": [],
   "source": [
    "def load_GIGA(db: GIGA_MI_ME,\n",
    "              sbj: int,\n",
    "              fs: float, \n",
    "              f_bank: np.ndarray, \n",
    "              vwt: np.ndarray, \n",
    "              new_fs: float) -> np.ndarray:\n",
    "\n",
    "    eeg_ch_names = ['Fp1','Fpz','Fp2',\n",
    "              'AF7','AF3','AFz','AF4','AF8',\n",
    "              'F7','F5','F3','F1','Fz','F2','F4','F6','F8',\n",
    "              'FT7','FC5','FC3','FC1','FCz','FC2','FC4','FC6','FT8',\n",
    "              'T7','C5','C3','C1','Cz','C2','C4','C6','T8',\n",
    "              'TP7','CP5','CP3','CP1','CPz','CP2','CP4','CP6','TP8',\n",
    "              'P9','P7','P5','P3','P1','Pz','P2','P4','P6','P8','P10',\n",
    "              'PO7','PO3','POz','PO4','PO8',\n",
    "              'O1','Oz','O2',\n",
    "              'Iz']\n",
    "\n",
    "    index_eeg_chs = db.format_channels_selectors(channels = eeg_ch_names) - 1\n",
    "\n",
    "    tf_repr = TimeFrequencyRpr(sfreq = fs, f_bank = f_bank, vwt = vwt)\n",
    "\n",
    "    db.load_subject(sbj)\n",
    "    X, y = db.get_data(classes = ['left hand mi', 'right hand mi']) #Load MI classes, all channels {EEG}, reject bad trials, uV\n",
    "    X = X[:,index_eeg_chs,:] #spatial rearrangement\n",
    "    X = np.squeeze(tf_repr.transform(X))\n",
    "    #Resampling\n",
    "    if new_fs == fs:\n",
    "        print('No resampling, since new sampling rate same.')\n",
    "    else:\n",
    "        print(\"Resampling from {:f} to {:f} Hz.\".format(fs, new_fs))\n",
    "        X = resample(X, int((X.shape[-1]/fs)*new_fs), axis = -1)\n",
    "    return X, y"
   ]
  },
  {
   "cell_type": "markdown",
   "id": "d3a99f41",
   "metadata": {
    "papermill": {
     "duration": 0.066518,
     "end_time": "2022-11-26T17:06:00.148688",
     "exception": false,
     "start_time": "2022-11-26T17:06:00.082170",
     "status": "completed"
    },
    "tags": []
   },
   "source": [
    "## BCI2a dataset"
   ]
  },
  {
   "cell_type": "code",
   "execution_count": 5,
   "id": "0df3d127",
   "metadata": {
    "execution": {
     "iopub.execute_input": "2022-11-26T17:06:00.258218Z",
     "iopub.status.busy": "2022-11-26T17:06:00.257908Z",
     "iopub.status.idle": "2022-11-26T17:06:00.266580Z",
     "shell.execute_reply": "2022-11-26T17:06:00.265555Z"
    },
    "papermill": {
     "duration": 0.065874,
     "end_time": "2022-11-26T17:06:00.268780",
     "exception": false,
     "start_time": "2022-11-26T17:06:00.202906",
     "status": "completed"
    },
    "tags": []
   },
   "outputs": [],
   "source": [
    "def load_BCICIV2a(db: Dataset_2a,\n",
    "               sbj: int,\n",
    "               fs: float, \n",
    "               f_bank: np.ndarray, \n",
    "               vwt: np.ndarray, \n",
    "               new_fs: float) -> np.ndarray:\n",
    "\n",
    "    tf_repr = TimeFrequencyRpr(sfreq = fs, f_bank = f_bank, vwt = vwt)\n",
    "    # training \n",
    "    db.load_subject(sbj, mode = 'training')\n",
    "    X_tr, y_tr = db.get_data() #Load all classes, all channels {EEG, EOG}, reject bad trials\n",
    "    X_tr = X_tr[:,:-3,:] # pick EEG channels\n",
    "    X_tr = X_tr*1e6 #uV\n",
    "    X_tr = np.squeeze(tf_repr.transform(X_tr))\n",
    "    # testing\n",
    "    db.load_subject(sbj, mode = 'evaluation')\n",
    "    X_ts, y_ts = db.get_data() #Load all classes, all channels {EEG, EOG}, reject bad trials\n",
    "    X_ts = X_ts[:,:-3,:] # pick EEG channels\n",
    "    X_ts = X_ts*1e6 #uV\n",
    "    X_ts = np.squeeze(tf_repr.transform(X_ts))\n",
    "    # merge both training and evaluation sets  \n",
    "    X = np.concatenate([X_tr, X_ts], axis = 0)\n",
    "    y = np.concatenate([y_tr, y_ts], axis = 0)    \n",
    "    # Resampling\n",
    "    if new_fs == fs:\n",
    "        print('No resampling, since new sampling rate same.')\n",
    "    else:\n",
    "        print(\"Resampling from {:f} to {:f} Hz.\".format(fs, new_fs))\n",
    "        X = resample(X, int((X.shape[-1]/fs)*new_fs), axis = -1)\n",
    "    return X, y"
   ]
  },
  {
   "cell_type": "markdown",
   "id": "23c769e0",
   "metadata": {
    "papermill": {
     "duration": 0.053941,
     "end_time": "2022-11-26T17:06:00.377141",
     "exception": false,
     "start_time": "2022-11-26T17:06:00.323200",
     "status": "completed"
    },
    "tags": []
   },
   "source": [
    "## Define the model EEGnet"
   ]
  },
  {
   "cell_type": "code",
   "execution_count": 6,
   "id": "6d9dd6cc",
   "metadata": {
    "execution": {
     "iopub.execute_input": "2022-11-26T17:06:00.487141Z",
     "iopub.status.busy": "2022-11-26T17:06:00.486785Z",
     "iopub.status.idle": "2022-11-26T17:06:00.495677Z",
     "shell.execute_reply": "2022-11-26T17:06:00.494881Z"
    },
    "papermill": {
     "duration": 0.065986,
     "end_time": "2022-11-26T17:06:00.497758",
     "exception": false,
     "start_time": "2022-11-26T17:06:00.431772",
     "status": "completed"
    },
    "tags": []
   },
   "outputs": [],
   "source": [
    "from EEG_Tensorflow_models.Models import DeepConvNet, ShallowConvNet, EEGNet, TCNet_fusion"
   ]
  },
  {
   "cell_type": "markdown",
   "id": "abd41ec5",
   "metadata": {
    "execution": {
     "iopub.execute_input": "2022-10-22T22:02:34.07466Z",
     "iopub.status.busy": "2022-10-22T22:02:34.074032Z",
     "iopub.status.idle": "2022-10-22T22:02:34.086988Z",
     "shell.execute_reply": "2022-10-22T22:02:34.086008Z"
    },
    "papermill": {
     "duration": 0.055156,
     "end_time": "2022-11-26T17:06:00.607564",
     "exception": false,
     "start_time": "2022-11-26T17:06:00.552408",
     "status": "completed"
    },
    "tags": []
   },
   "source": [
    "# Experiment"
   ]
  },
  {
   "cell_type": "markdown",
   "id": "29c5dc41",
   "metadata": {
    "papermill": {
     "duration": 0.065188,
     "end_time": "2022-11-26T17:06:00.737257",
     "exception": false,
     "start_time": "2022-11-26T17:06:00.672069",
     "status": "completed"
    },
    "tags": []
   },
   "source": [
    "## Experiment configuration "
   ]
  },
  {
   "cell_type": "code",
   "execution_count": 7,
   "id": "3574ad2c",
   "metadata": {
    "execution": {
     "iopub.execute_input": "2022-11-26T17:06:00.846863Z",
     "iopub.status.busy": "2022-11-26T17:06:00.846479Z",
     "iopub.status.idle": "2022-11-26T17:06:00.851887Z",
     "shell.execute_reply": "2022-11-26T17:06:00.850684Z"
    },
    "papermill": {
     "duration": 0.062687,
     "end_time": "2022-11-26T17:06:00.853796",
     "exception": false,
     "start_time": "2022-11-26T17:06:00.791109",
     "status": "completed"
    },
    "tags": []
   },
   "outputs": [],
   "source": [
    "seed=23\n",
    "folds=5\n",
    "epochs_train = 500\n",
    "data_set='GIGA_MI_ME'## BCICIV2a # GIGA_MI_ME\n",
    "\n",
    "save_folder = 'TC_fusion_net_128Hz'\n",
    "Experiment=f'{data_set}__{folds}_fold'\n",
    "\n",
    "model_name= f'{save_folder}{epochs_train}_epoch'\n"
   ]
  },
  {
   "cell_type": "code",
   "execution_count": 8,
   "id": "11b8c518",
   "metadata": {
    "execution": {
     "iopub.execute_input": "2022-11-26T17:06:00.966010Z",
     "iopub.status.busy": "2022-11-26T17:06:00.964530Z",
     "iopub.status.idle": "2022-11-26T17:06:01.918783Z",
     "shell.execute_reply": "2022-11-26T17:06:01.917511Z"
    },
    "papermill": {
     "duration": 1.012791,
     "end_time": "2022-11-26T17:06:01.921359",
     "exception": false,
     "start_time": "2022-11-26T17:06:00.908568",
     "status": "completed"
    },
    "tags": []
   },
   "outputs": [],
   "source": [
    "PATH=f'./{save_folder}/'\n",
    "!mkdir '{PATH}'"
   ]
  },
  {
   "cell_type": "markdown",
   "id": "86381a03",
   "metadata": {
    "execution": {
     "iopub.execute_input": "2022-10-22T22:02:35.565905Z",
     "iopub.status.busy": "2022-10-22T22:02:35.565531Z",
     "iopub.status.idle": "2022-10-22T22:02:35.582215Z",
     "shell.execute_reply": "2022-10-22T22:02:35.581284Z"
    },
    "papermill": {
     "duration": 0.063063,
     "end_time": "2022-11-26T17:06:02.041082",
     "exception": false,
     "start_time": "2022-11-26T17:06:01.978019",
     "status": "completed"
    },
    "tags": []
   },
   "source": [
    "## Run experiment"
   ]
  },
  {
   "cell_type": "code",
   "execution_count": 9,
   "id": "c06cf05c",
   "metadata": {
    "execution": {
     "iopub.execute_input": "2022-11-26T17:06:02.152950Z",
     "iopub.status.busy": "2022-11-26T17:06:02.152558Z",
     "iopub.status.idle": "2022-11-26T20:25:29.665982Z",
     "shell.execute_reply": "2022-11-26T20:25:29.664977Z"
    },
    "papermill": {
     "duration": 11967.635186,
     "end_time": "2022-11-26T20:25:29.732606",
     "exception": false,
     "start_time": "2022-11-26T17:06:02.097420",
     "status": "completed"
    },
    "tags": []
   },
   "outputs": [
    {
     "name": "stdout",
     "output_type": "stream",
     "text": [
      "Resampling from 512.000000 to 128.000000 Hz.\n"
     ]
    },
    {
     "name": "stderr",
     "output_type": "stream",
     "text": [
      "2022-11-26 17:06:16.763827: E tensorflow/core/grappler/optimizers/meta_optimizer.cc:954] layout failed: INVALID_ARGUMENT: Size of values 0 does not match size of permutation 4 @ fanin shape inmodel/dropout/dropout/SelectV2-2-TransposeNHWCToNCHW-LayoutOptimizer\n",
      "2022-11-26 17:06:19.561709: W tensorflow/compiler/xla/stream_executor/gpu/asm_compiler.cc:115] *** WARNING *** You are using ptxas 11.0.221, which is older than 11.1. ptxas before 11.1 is known to miscompile XLA code, leading to incorrect results or invalid-address errors.\n",
      "\n",
      "You may not need to update to CUDA 11.1; cherry-picking the ptxas binary is often sufficient.\n",
      "2022-11-26 17:06:20.932183: W tensorflow/compiler/xla/stream_executor/gpu/asm_compiler.cc:115] *** WARNING *** You are using ptxas 11.0.221, which is older than 11.1. ptxas before 11.1 is known to miscompile XLA code, leading to incorrect results or invalid-address errors.\n",
      "\n",
      "You may not need to update to CUDA 11.1; cherry-picking the ptxas binary is often sufficient.\n",
      "2022-11-26 17:06:21.078326: W tensorflow/compiler/xla/stream_executor/gpu/asm_compiler.cc:115] *** WARNING *** You are using ptxas 11.0.221, which is older than 11.1. ptxas before 11.1 is known to miscompile XLA code, leading to incorrect results or invalid-address errors.\n",
      "\n",
      "You may not need to update to CUDA 11.1; cherry-picking the ptxas binary is often sufficient.\n",
      "2022-11-26 17:06:21.221533: W tensorflow/compiler/xla/stream_executor/gpu/asm_compiler.cc:115] *** WARNING *** You are using ptxas 11.0.221, which is older than 11.1. ptxas before 11.1 is known to miscompile XLA code, leading to incorrect results or invalid-address errors.\n",
      "\n",
      "You may not need to update to CUDA 11.1; cherry-picking the ptxas binary is often sufficient.\n",
      "2022-11-26 17:06:22.094420: W tensorflow/compiler/xla/stream_executor/gpu/asm_compiler.cc:115] *** WARNING *** You are using ptxas 11.0.221, which is older than 11.1. ptxas before 11.1 is known to miscompile XLA code, leading to incorrect results or invalid-address errors.\n",
      "\n",
      "You may not need to update to CUDA 11.1; cherry-picking the ptxas binary is often sufficient.\n",
      "2022-11-26 17:06:22.610215: W tensorflow/compiler/xla/stream_executor/gpu/asm_compiler.cc:115] *** WARNING *** You are using ptxas 11.0.221, which is older than 11.1. ptxas before 11.1 is known to miscompile XLA code, leading to incorrect results or invalid-address errors.\n",
      "\n",
      "You may not need to update to CUDA 11.1; cherry-picking the ptxas binary is often sufficient.\n",
      "2022-11-26 17:06:24.550848: W tensorflow/compiler/xla/stream_executor/gpu/asm_compiler.cc:115] *** WARNING *** You are using ptxas 11.0.221, which is older than 11.1. ptxas before 11.1 is known to miscompile XLA code, leading to incorrect results or invalid-address errors.\n",
      "\n",
      "You may not need to update to CUDA 11.1; cherry-picking the ptxas binary is often sufficient.\n",
      "2022-11-26 17:06:24.696501: W tensorflow/compiler/xla/stream_executor/gpu/asm_compiler.cc:115] *** WARNING *** You are using ptxas 11.0.221, which is older than 11.1. ptxas before 11.1 is known to miscompile XLA code, leading to incorrect results or invalid-address errors.\n",
      "\n",
      "You may not need to update to CUDA 11.1; cherry-picking the ptxas binary is often sufficient.\n",
      "2022-11-26 17:06:25.023762: W tensorflow/compiler/xla/stream_executor/gpu/asm_compiler.cc:115] *** WARNING *** You are using ptxas 11.0.221, which is older than 11.1. ptxas before 11.1 is known to miscompile XLA code, leading to incorrect results or invalid-address errors.\n",
      "\n",
      "You may not need to update to CUDA 11.1; cherry-picking the ptxas binary is often sufficient.\n",
      "2022-11-26 17:06:25.336382: W tensorflow/compiler/xla/stream_executor/gpu/asm_compiler.cc:115] *** WARNING *** You are using ptxas 11.0.221, which is older than 11.1. ptxas before 11.1 is known to miscompile XLA code, leading to incorrect results or invalid-address errors.\n",
      "\n",
      "You may not need to update to CUDA 11.1; cherry-picking the ptxas binary is often sufficient.\n",
      "2022-11-26 17:06:25.541417: W tensorflow/compiler/xla/stream_executor/gpu/asm_compiler.cc:115] *** WARNING *** You are using ptxas 11.0.221, which is older than 11.1. ptxas before 11.1 is known to miscompile XLA code, leading to incorrect results or invalid-address errors.\n",
      "\n",
      "You may not need to update to CUDA 11.1; cherry-picking the ptxas binary is often sufficient.\n",
      "2022-11-26 17:07:45.263314: E tensorflow/core/grappler/optimizers/meta_optimizer.cc:954] layout failed: INVALID_ARGUMENT: Size of values 0 does not match size of permutation 4 @ fanin shape inmodel_1/dropout_10/dropout/SelectV2-2-TransposeNHWCToNCHW-LayoutOptimizer\n",
      "2022-11-26 17:09:13.592373: E tensorflow/core/grappler/optimizers/meta_optimizer.cc:954] layout failed: INVALID_ARGUMENT: Size of values 0 does not match size of permutation 4 @ fanin shape inmodel_2/dropout_20/dropout/SelectV2-2-TransposeNHWCToNCHW-LayoutOptimizer\n",
      "2022-11-26 17:10:25.862733: E tensorflow/core/grappler/optimizers/meta_optimizer.cc:954] layout failed: INVALID_ARGUMENT: Size of values 0 does not match size of permutation 4 @ fanin shape inmodel_3/dropout_30/dropout/SelectV2-2-TransposeNHWCToNCHW-LayoutOptimizer\n",
      "2022-11-26 17:11:37.502784: E tensorflow/core/grappler/optimizers/meta_optimizer.cc:954] layout failed: INVALID_ARGUMENT: Size of values 0 does not match size of permutation 4 @ fanin shape inmodel_4/dropout_40/dropout/SelectV2-2-TransposeNHWCToNCHW-LayoutOptimizer\n",
      "2022-11-26 17:13:05.381991: E tensorflow/core/grappler/optimizers/meta_optimizer.cc:954] layout failed: INVALID_ARGUMENT: Size of values 0 does not match size of permutation 4 @ fanin shape inmodel_5/dropout_50/dropout/SelectV2-2-TransposeNHWCToNCHW-LayoutOptimizer\n"
     ]
    },
    {
     "name": "stdout",
     "output_type": "stream",
     "text": [
      "Subject 26 Accuracy 0.8549999999999999 elapsed time 474.15633273124695\n",
      "---------\n",
      "Resampling from 512.000000 to 128.000000 Hz.\n"
     ]
    },
    {
     "name": "stderr",
     "output_type": "stream",
     "text": [
      "2022-11-26 17:14:09.648233: E tensorflow/core/grappler/optimizers/meta_optimizer.cc:954] layout failed: INVALID_ARGUMENT: Size of values 0 does not match size of permutation 4 @ fanin shape inmodel_6/dropout_60/dropout/SelectV2-2-TransposeNHWCToNCHW-LayoutOptimizer\n",
      "2022-11-26 17:15:16.932044: E tensorflow/core/grappler/optimizers/meta_optimizer.cc:954] layout failed: INVALID_ARGUMENT: Size of values 0 does not match size of permutation 4 @ fanin shape inmodel_7/dropout_70/dropout/SelectV2-2-TransposeNHWCToNCHW-LayoutOptimizer\n",
      "2022-11-26 17:16:44.947487: E tensorflow/core/grappler/optimizers/meta_optimizer.cc:954] layout failed: INVALID_ARGUMENT: Size of values 0 does not match size of permutation 4 @ fanin shape inmodel_8/dropout_80/dropout/SelectV2-2-TransposeNHWCToNCHW-LayoutOptimizer\n",
      "2022-11-26 17:17:54.155505: E tensorflow/core/grappler/optimizers/meta_optimizer.cc:954] layout failed: INVALID_ARGUMENT: Size of values 0 does not match size of permutation 4 @ fanin shape inmodel_9/dropout_90/dropout/SelectV2-2-TransposeNHWCToNCHW-LayoutOptimizer\n",
      "2022-11-26 17:19:22.301207: E tensorflow/core/grappler/optimizers/meta_optimizer.cc:954] layout failed: INVALID_ARGUMENT: Size of values 0 does not match size of permutation 4 @ fanin shape inmodel_10/dropout_100/dropout/SelectV2-2-TransposeNHWCToNCHW-LayoutOptimizer\n",
      "2022-11-26 17:20:51.526654: E tensorflow/core/grappler/optimizers/meta_optimizer.cc:954] layout failed: INVALID_ARGUMENT: Size of values 0 does not match size of permutation 4 @ fanin shape inmodel_11/dropout_110/dropout/SelectV2-2-TransposeNHWCToNCHW-LayoutOptimizer\n"
     ]
    },
    {
     "name": "stdout",
     "output_type": "stream",
     "text": [
      "Subject 27 Accuracy 0.5459459459459459 elapsed time 964.1466238498688\n",
      "---------\n",
      "Resampling from 512.000000 to 128.000000 Hz.\n"
     ]
    },
    {
     "name": "stderr",
     "output_type": "stream",
     "text": [
      "2022-11-26 17:22:18.883154: E tensorflow/core/grappler/optimizers/meta_optimizer.cc:954] layout failed: INVALID_ARGUMENT: Size of values 0 does not match size of permutation 4 @ fanin shape inmodel_12/dropout_120/dropout/SelectV2-2-TransposeNHWCToNCHW-LayoutOptimizer\n",
      "2022-11-26 17:23:28.541114: E tensorflow/core/grappler/optimizers/meta_optimizer.cc:954] layout failed: INVALID_ARGUMENT: Size of values 0 does not match size of permutation 4 @ fanin shape inmodel_13/dropout_130/dropout/SelectV2-2-TransposeNHWCToNCHW-LayoutOptimizer\n",
      "2022-11-26 17:24:57.714086: E tensorflow/core/grappler/optimizers/meta_optimizer.cc:954] layout failed: INVALID_ARGUMENT: Size of values 0 does not match size of permutation 4 @ fanin shape inmodel_14/dropout_140/dropout/SelectV2-2-TransposeNHWCToNCHW-LayoutOptimizer\n",
      "2022-11-26 17:26:07.637577: E tensorflow/core/grappler/optimizers/meta_optimizer.cc:954] layout failed: INVALID_ARGUMENT: Size of values 0 does not match size of permutation 4 @ fanin shape inmodel_15/dropout_150/dropout/SelectV2-2-TransposeNHWCToNCHW-LayoutOptimizer\n",
      "2022-11-26 17:27:35.788871: E tensorflow/core/grappler/optimizers/meta_optimizer.cc:954] layout failed: INVALID_ARGUMENT: Size of values 0 does not match size of permutation 4 @ fanin shape inmodel_16/dropout_160/dropout/SelectV2-2-TransposeNHWCToNCHW-LayoutOptimizer\n",
      "2022-11-26 17:29:04.931123: E tensorflow/core/grappler/optimizers/meta_optimizer.cc:954] layout failed: INVALID_ARGUMENT: Size of values 0 does not match size of permutation 4 @ fanin shape inmodel_17/dropout_170/dropout/SelectV2-2-TransposeNHWCToNCHW-LayoutOptimizer\n"
     ]
    },
    {
     "name": "stdout",
     "output_type": "stream",
     "text": [
      "Subject 28 Accuracy 0.78 elapsed time 1432.855432510376\n",
      "---------\n",
      "Resampling from 512.000000 to 128.000000 Hz.\n"
     ]
    },
    {
     "name": "stderr",
     "output_type": "stream",
     "text": [
      "2022-11-26 17:30:06.134043: E tensorflow/core/grappler/optimizers/meta_optimizer.cc:954] layout failed: INVALID_ARGUMENT: Size of values 0 does not match size of permutation 4 @ fanin shape inmodel_18/dropout_180/dropout/SelectV2-2-TransposeNHWCToNCHW-LayoutOptimizer\n",
      "2022-11-26 17:31:33.913023: E tensorflow/core/grappler/optimizers/meta_optimizer.cc:954] layout failed: INVALID_ARGUMENT: Size of values 0 does not match size of permutation 4 @ fanin shape inmodel_19/dropout_190/dropout/SelectV2-2-TransposeNHWCToNCHW-LayoutOptimizer\n",
      "2022-11-26 17:33:02.645801: E tensorflow/core/grappler/optimizers/meta_optimizer.cc:954] layout failed: INVALID_ARGUMENT: Size of values 0 does not match size of permutation 4 @ fanin shape inmodel_20/dropout_200/dropout/SelectV2-2-TransposeNHWCToNCHW-LayoutOptimizer\n",
      "2022-11-26 17:33:51.908306: E tensorflow/core/grappler/optimizers/meta_optimizer.cc:954] layout failed: INVALID_ARGUMENT: Size of values 0 does not match size of permutation 4 @ fanin shape inmodel_21/dropout_210/dropout/SelectV2-2-TransposeNHWCToNCHW-LayoutOptimizer\n",
      "2022-11-26 17:34:40.581677: E tensorflow/core/grappler/optimizers/meta_optimizer.cc:954] layout failed: INVALID_ARGUMENT: Size of values 0 does not match size of permutation 4 @ fanin shape inmodel_22/dropout_220/dropout/SelectV2-2-TransposeNHWCToNCHW-LayoutOptimizer\n",
      "2022-11-26 17:36:09.555375: E tensorflow/core/grappler/optimizers/meta_optimizer.cc:954] layout failed: INVALID_ARGUMENT: Size of values 0 does not match size of permutation 4 @ fanin shape inmodel_23/dropout_230/dropout/SelectV2-2-TransposeNHWCToNCHW-LayoutOptimizer\n"
     ]
    },
    {
     "name": "stdout",
     "output_type": "stream",
     "text": [
      "Subject 30 Accuracy 0.576 elapsed time 1890.0225222110748\n",
      "---------\n",
      "Resampling from 512.000000 to 128.000000 Hz.\n"
     ]
    },
    {
     "name": "stderr",
     "output_type": "stream",
     "text": [
      "2022-11-26 17:37:44.892346: E tensorflow/core/grappler/optimizers/meta_optimizer.cc:954] layout failed: INVALID_ARGUMENT: Size of values 0 does not match size of permutation 4 @ fanin shape inmodel_24/dropout_240/dropout/SelectV2-2-TransposeNHWCToNCHW-LayoutOptimizer\n",
      "2022-11-26 17:38:55.553454: E tensorflow/core/grappler/optimizers/meta_optimizer.cc:954] layout failed: INVALID_ARGUMENT: Size of values 0 does not match size of permutation 4 @ fanin shape inmodel_25/dropout_250/dropout/SelectV2-2-TransposeNHWCToNCHW-LayoutOptimizer\n",
      "2022-11-26 17:40:07.429844: E tensorflow/core/grappler/optimizers/meta_optimizer.cc:954] layout failed: INVALID_ARGUMENT: Size of values 0 does not match size of permutation 4 @ fanin shape inmodel_26/dropout_260/dropout/SelectV2-2-TransposeNHWCToNCHW-LayoutOptimizer\n",
      "2022-11-26 17:41:35.654157: E tensorflow/core/grappler/optimizers/meta_optimizer.cc:954] layout failed: INVALID_ARGUMENT: Size of values 0 does not match size of permutation 4 @ fanin shape inmodel_27/dropout_270/dropout/SelectV2-2-TransposeNHWCToNCHW-LayoutOptimizer\n",
      "2022-11-26 17:42:45.947637: E tensorflow/core/grappler/optimizers/meta_optimizer.cc:954] layout failed: INVALID_ARGUMENT: Size of values 0 does not match size of permutation 4 @ fanin shape inmodel_28/dropout_280/dropout/SelectV2-2-TransposeNHWCToNCHW-LayoutOptimizer\n",
      "2022-11-26 17:44:14.556530: E tensorflow/core/grappler/optimizers/meta_optimizer.cc:954] layout failed: INVALID_ARGUMENT: Size of values 0 does not match size of permutation 4 @ fanin shape inmodel_29/dropout_290/dropout/SelectV2-2-TransposeNHWCToNCHW-LayoutOptimizer\n"
     ]
    },
    {
     "name": "stdout",
     "output_type": "stream",
     "text": [
      "Subject 31 Accuracy 0.735 elapsed time 2375.075396299362\n",
      "---------\n",
      "Resampling from 512.000000 to 128.000000 Hz.\n"
     ]
    },
    {
     "name": "stderr",
     "output_type": "stream",
     "text": [
      "2022-11-26 17:45:50.059296: E tensorflow/core/grappler/optimizers/meta_optimizer.cc:954] layout failed: INVALID_ARGUMENT: Size of values 0 does not match size of permutation 4 @ fanin shape inmodel_30/dropout_300/dropout/SelectV2-2-TransposeNHWCToNCHW-LayoutOptimizer\n",
      "2022-11-26 17:47:18.008600: E tensorflow/core/grappler/optimizers/meta_optimizer.cc:954] layout failed: INVALID_ARGUMENT: Size of values 0 does not match size of permutation 4 @ fanin shape inmodel_31/dropout_310/dropout/SelectV2-2-TransposeNHWCToNCHW-LayoutOptimizer\n",
      "2022-11-26 17:48:28.961000: E tensorflow/core/grappler/optimizers/meta_optimizer.cc:954] layout failed: INVALID_ARGUMENT: Size of values 0 does not match size of permutation 4 @ fanin shape inmodel_32/dropout_320/dropout/SelectV2-2-TransposeNHWCToNCHW-LayoutOptimizer\n",
      "2022-11-26 17:49:57.007370: E tensorflow/core/grappler/optimizers/meta_optimizer.cc:954] layout failed: INVALID_ARGUMENT: Size of values 0 does not match size of permutation 4 @ fanin shape inmodel_33/dropout_330/dropout/SelectV2-2-TransposeNHWCToNCHW-LayoutOptimizer\n",
      "2022-11-26 17:51:07.739085: E tensorflow/core/grappler/optimizers/meta_optimizer.cc:954] layout failed: INVALID_ARGUMENT: Size of values 0 does not match size of permutation 4 @ fanin shape inmodel_34/dropout_340/dropout/SelectV2-2-TransposeNHWCToNCHW-LayoutOptimizer\n",
      "2022-11-26 17:52:18.658257: E tensorflow/core/grappler/optimizers/meta_optimizer.cc:954] layout failed: INVALID_ARGUMENT: Size of values 0 does not match size of permutation 4 @ fanin shape inmodel_35/dropout_350/dropout/SelectV2-2-TransposeNHWCToNCHW-LayoutOptimizer\n"
     ]
    },
    {
     "name": "stdout",
     "output_type": "stream",
     "text": [
      "Subject 32 Accuracy 0.505 elapsed time 2859.1405720710754\n",
      "---------\n",
      "Resampling from 512.000000 to 128.000000 Hz.\n"
     ]
    },
    {
     "name": "stderr",
     "output_type": "stream",
     "text": [
      "2022-11-26 17:53:53.645222: E tensorflow/core/grappler/optimizers/meta_optimizer.cc:954] layout failed: INVALID_ARGUMENT: Size of values 0 does not match size of permutation 4 @ fanin shape inmodel_36/dropout_360/dropout/SelectV2-2-TransposeNHWCToNCHW-LayoutOptimizer\n",
      "2022-11-26 17:55:21.603808: E tensorflow/core/grappler/optimizers/meta_optimizer.cc:954] layout failed: INVALID_ARGUMENT: Size of values 0 does not match size of permutation 4 @ fanin shape inmodel_37/dropout_370/dropout/SelectV2-2-TransposeNHWCToNCHW-LayoutOptimizer\n",
      "2022-11-26 17:56:32.966238: E tensorflow/core/grappler/optimizers/meta_optimizer.cc:954] layout failed: INVALID_ARGUMENT: Size of values 0 does not match size of permutation 4 @ fanin shape inmodel_38/dropout_380/dropout/SelectV2-2-TransposeNHWCToNCHW-LayoutOptimizer\n",
      "2022-11-26 17:58:01.467070: E tensorflow/core/grappler/optimizers/meta_optimizer.cc:954] layout failed: INVALID_ARGUMENT: Size of values 0 does not match size of permutation 4 @ fanin shape inmodel_39/dropout_390/dropout/SelectV2-2-TransposeNHWCToNCHW-LayoutOptimizer\n",
      "2022-11-26 17:59:12.409102: E tensorflow/core/grappler/optimizers/meta_optimizer.cc:954] layout failed: INVALID_ARGUMENT: Size of values 0 does not match size of permutation 4 @ fanin shape inmodel_40/dropout_400/dropout/SelectV2-2-TransposeNHWCToNCHW-LayoutOptimizer\n",
      "2022-11-26 18:00:41.274943: E tensorflow/core/grappler/optimizers/meta_optimizer.cc:954] layout failed: INVALID_ARGUMENT: Size of values 0 does not match size of permutation 4 @ fanin shape inmodel_41/dropout_410/dropout/SelectV2-2-TransposeNHWCToNCHW-LayoutOptimizer\n"
     ]
    },
    {
     "name": "stdout",
     "output_type": "stream",
     "text": [
      "Subject 33 Accuracy 0.595 elapsed time 3361.7739148139954\n",
      "---------\n",
      "Resampling from 512.000000 to 128.000000 Hz.\n"
     ]
    },
    {
     "name": "stderr",
     "output_type": "stream",
     "text": [
      "2022-11-26 18:02:16.628626: E tensorflow/core/grappler/optimizers/meta_optimizer.cc:954] layout failed: INVALID_ARGUMENT: Size of values 0 does not match size of permutation 4 @ fanin shape inmodel_42/dropout_420/dropout/SelectV2-2-TransposeNHWCToNCHW-LayoutOptimizer\n",
      "2022-11-26 18:03:44.572281: E tensorflow/core/grappler/optimizers/meta_optimizer.cc:954] layout failed: INVALID_ARGUMENT: Size of values 0 does not match size of permutation 4 @ fanin shape inmodel_43/dropout_430/dropout/SelectV2-2-TransposeNHWCToNCHW-LayoutOptimizer\n",
      "2022-11-26 18:05:13.512547: E tensorflow/core/grappler/optimizers/meta_optimizer.cc:954] layout failed: INVALID_ARGUMENT: Size of values 0 does not match size of permutation 4 @ fanin shape inmodel_44/dropout_440/dropout/SelectV2-2-TransposeNHWCToNCHW-LayoutOptimizer\n",
      "2022-11-26 18:06:41.834695: E tensorflow/core/grappler/optimizers/meta_optimizer.cc:954] layout failed: INVALID_ARGUMENT: Size of values 0 does not match size of permutation 4 @ fanin shape inmodel_45/dropout_450/dropout/SelectV2-2-TransposeNHWCToNCHW-LayoutOptimizer\n",
      "2022-11-26 18:07:52.266651: E tensorflow/core/grappler/optimizers/meta_optimizer.cc:954] layout failed: INVALID_ARGUMENT: Size of values 0 does not match size of permutation 4 @ fanin shape inmodel_46/dropout_460/dropout/SelectV2-2-TransposeNHWCToNCHW-LayoutOptimizer\n",
      "2022-11-26 18:09:04.155818: E tensorflow/core/grappler/optimizers/meta_optimizer.cc:954] layout failed: INVALID_ARGUMENT: Size of values 0 does not match size of permutation 4 @ fanin shape inmodel_47/dropout_470/dropout/SelectV2-2-TransposeNHWCToNCHW-LayoutOptimizer\n"
     ]
    },
    {
     "name": "stdout",
     "output_type": "stream",
     "text": [
      "Subject 35 Accuracy 0.86 elapsed time 3864.728426218033\n",
      "---------\n",
      "Resampling from 512.000000 to 128.000000 Hz.\n"
     ]
    },
    {
     "name": "stderr",
     "output_type": "stream",
     "text": [
      "2022-11-26 18:10:39.653156: E tensorflow/core/grappler/optimizers/meta_optimizer.cc:954] layout failed: INVALID_ARGUMENT: Size of values 0 does not match size of permutation 4 @ fanin shape inmodel_48/dropout_480/dropout/SelectV2-2-TransposeNHWCToNCHW-LayoutOptimizer\n",
      "2022-11-26 18:11:49.928918: E tensorflow/core/grappler/optimizers/meta_optimizer.cc:954] layout failed: INVALID_ARGUMENT: Size of values 0 does not match size of permutation 4 @ fanin shape inmodel_49/dropout_490/dropout/SelectV2-2-TransposeNHWCToNCHW-LayoutOptimizer\n",
      "2022-11-26 18:13:18.844668: E tensorflow/core/grappler/optimizers/meta_optimizer.cc:954] layout failed: INVALID_ARGUMENT: Size of values 0 does not match size of permutation 4 @ fanin shape inmodel_50/dropout_500/dropout/SelectV2-2-TransposeNHWCToNCHW-LayoutOptimizer\n",
      "2022-11-26 18:14:29.082809: E tensorflow/core/grappler/optimizers/meta_optimizer.cc:954] layout failed: INVALID_ARGUMENT: Size of values 0 does not match size of permutation 4 @ fanin shape inmodel_51/dropout_510/dropout/SelectV2-2-TransposeNHWCToNCHW-LayoutOptimizer\n",
      "2022-11-26 18:15:57.043613: E tensorflow/core/grappler/optimizers/meta_optimizer.cc:954] layout failed: INVALID_ARGUMENT: Size of values 0 does not match size of permutation 4 @ fanin shape inmodel_52/dropout_520/dropout/SelectV2-2-TransposeNHWCToNCHW-LayoutOptimizer\n",
      "2022-11-26 18:17:08.585347: E tensorflow/core/grappler/optimizers/meta_optimizer.cc:954] layout failed: INVALID_ARGUMENT: Size of values 0 does not match size of permutation 4 @ fanin shape inmodel_53/dropout_530/dropout/SelectV2-2-TransposeNHWCToNCHW-LayoutOptimizer\n"
     ]
    },
    {
     "name": "stdout",
     "output_type": "stream",
     "text": [
      "Subject 36 Accuracy 0.6615384615384615 elapsed time 4349.317098140717\n",
      "---------\n",
      "Resampling from 512.000000 to 128.000000 Hz.\n"
     ]
    },
    {
     "name": "stderr",
     "output_type": "stream",
     "text": [
      "2022-11-26 18:18:44.600344: E tensorflow/core/grappler/optimizers/meta_optimizer.cc:954] layout failed: INVALID_ARGUMENT: Size of values 0 does not match size of permutation 4 @ fanin shape inmodel_54/dropout_540/dropout/SelectV2-2-TransposeNHWCToNCHW-LayoutOptimizer\n",
      "2022-11-26 18:20:12.732346: E tensorflow/core/grappler/optimizers/meta_optimizer.cc:954] layout failed: INVALID_ARGUMENT: Size of values 0 does not match size of permutation 4 @ fanin shape inmodel_55/dropout_550/dropout/SelectV2-2-TransposeNHWCToNCHW-LayoutOptimizer\n",
      "2022-11-26 18:21:41.433961: E tensorflow/core/grappler/optimizers/meta_optimizer.cc:954] layout failed: INVALID_ARGUMENT: Size of values 0 does not match size of permutation 4 @ fanin shape inmodel_56/dropout_560/dropout/SelectV2-2-TransposeNHWCToNCHW-LayoutOptimizer\n",
      "2022-11-26 18:22:53.413476: E tensorflow/core/grappler/optimizers/meta_optimizer.cc:954] layout failed: INVALID_ARGUMENT: Size of values 0 does not match size of permutation 4 @ fanin shape inmodel_57/dropout_570/dropout/SelectV2-2-TransposeNHWCToNCHW-LayoutOptimizer\n",
      "2022-11-26 18:24:04.598798: E tensorflow/core/grappler/optimizers/meta_optimizer.cc:954] layout failed: INVALID_ARGUMENT: Size of values 0 does not match size of permutation 4 @ fanin shape inmodel_58/dropout_580/dropout/SelectV2-2-TransposeNHWCToNCHW-LayoutOptimizer\n",
      "2022-11-26 18:25:15.431707: E tensorflow/core/grappler/optimizers/meta_optimizer.cc:954] layout failed: INVALID_ARGUMENT: Size of values 0 does not match size of permutation 4 @ fanin shape inmodel_59/dropout_590/dropout/SelectV2-2-TransposeNHWCToNCHW-LayoutOptimizer\n"
     ]
    },
    {
     "name": "stdout",
     "output_type": "stream",
     "text": [
      "Subject 37 Accuracy 0.825 elapsed time 4804.037173509598\n",
      "---------\n",
      "Resampling from 512.000000 to 128.000000 Hz.\n"
     ]
    },
    {
     "name": "stderr",
     "output_type": "stream",
     "text": [
      "2022-11-26 18:26:19.386103: E tensorflow/core/grappler/optimizers/meta_optimizer.cc:954] layout failed: INVALID_ARGUMENT: Size of values 0 does not match size of permutation 4 @ fanin shape inmodel_60/dropout_600/dropout/SelectV2-2-TransposeNHWCToNCHW-LayoutOptimizer\n",
      "2022-11-26 18:27:47.650761: E tensorflow/core/grappler/optimizers/meta_optimizer.cc:954] layout failed: INVALID_ARGUMENT: Size of values 0 does not match size of permutation 4 @ fanin shape inmodel_61/dropout_610/dropout/SelectV2-2-TransposeNHWCToNCHW-LayoutOptimizer\n",
      "2022-11-26 18:28:55.758502: E tensorflow/core/grappler/optimizers/meta_optimizer.cc:954] layout failed: INVALID_ARGUMENT: Size of values 0 does not match size of permutation 4 @ fanin shape inmodel_62/dropout_620/dropout/SelectV2-2-TransposeNHWCToNCHW-LayoutOptimizer\n",
      "2022-11-26 18:30:24.784309: E tensorflow/core/grappler/optimizers/meta_optimizer.cc:954] layout failed: INVALID_ARGUMENT: Size of values 0 does not match size of permutation 4 @ fanin shape inmodel_63/dropout_630/dropout/SelectV2-2-TransposeNHWCToNCHW-LayoutOptimizer\n",
      "2022-11-26 18:31:53.021604: E tensorflow/core/grappler/optimizers/meta_optimizer.cc:954] layout failed: INVALID_ARGUMENT: Size of values 0 does not match size of permutation 4 @ fanin shape inmodel_64/dropout_640/dropout/SelectV2-2-TransposeNHWCToNCHW-LayoutOptimizer\n",
      "2022-11-26 18:33:00.874164: E tensorflow/core/grappler/optimizers/meta_optimizer.cc:954] layout failed: INVALID_ARGUMENT: Size of values 0 does not match size of permutation 4 @ fanin shape inmodel_65/dropout_650/dropout/SelectV2-2-TransposeNHWCToNCHW-LayoutOptimizer\n"
     ]
    },
    {
     "name": "stdout",
     "output_type": "stream",
     "text": [
      "Subject 38 Accuracy 0.5282051282051282 elapsed time 5301.196045875549\n",
      "---------\n",
      "Resampling from 512.000000 to 128.000000 Hz.\n"
     ]
    },
    {
     "name": "stderr",
     "output_type": "stream",
     "text": [
      "2022-11-26 18:34:36.715985: E tensorflow/core/grappler/optimizers/meta_optimizer.cc:954] layout failed: INVALID_ARGUMENT: Size of values 0 does not match size of permutation 4 @ fanin shape inmodel_66/dropout_660/dropout/SelectV2-2-TransposeNHWCToNCHW-LayoutOptimizer\n",
      "2022-11-26 18:36:04.969494: E tensorflow/core/grappler/optimizers/meta_optimizer.cc:954] layout failed: INVALID_ARGUMENT: Size of values 0 does not match size of permutation 4 @ fanin shape inmodel_67/dropout_670/dropout/SelectV2-2-TransposeNHWCToNCHW-LayoutOptimizer\n",
      "2022-11-26 18:37:32.745322: E tensorflow/core/grappler/optimizers/meta_optimizer.cc:954] layout failed: INVALID_ARGUMENT: Size of values 0 does not match size of permutation 4 @ fanin shape inmodel_68/dropout_680/dropout/SelectV2-2-TransposeNHWCToNCHW-LayoutOptimizer\n",
      "2022-11-26 18:39:01.952546: E tensorflow/core/grappler/optimizers/meta_optimizer.cc:954] layout failed: INVALID_ARGUMENT: Size of values 0 does not match size of permutation 4 @ fanin shape inmodel_69/dropout_690/dropout/SelectV2-2-TransposeNHWCToNCHW-LayoutOptimizer\n",
      "2022-11-26 18:40:30.329793: E tensorflow/core/grappler/optimizers/meta_optimizer.cc:954] layout failed: INVALID_ARGUMENT: Size of values 0 does not match size of permutation 4 @ fanin shape inmodel_70/dropout_700/dropout/SelectV2-2-TransposeNHWCToNCHW-LayoutOptimizer\n",
      "2022-11-26 18:41:40.846750: E tensorflow/core/grappler/optimizers/meta_optimizer.cc:954] layout failed: INVALID_ARGUMENT: Size of values 0 does not match size of permutation 4 @ fanin shape inmodel_71/dropout_710/dropout/SelectV2-2-TransposeNHWCToNCHW-LayoutOptimizer\n"
     ]
    },
    {
     "name": "stdout",
     "output_type": "stream",
     "text": [
      "Subject 39 Accuracy 0.7300000000000001 elapsed time 5791.334981918335\n",
      "---------\n",
      "Resampling from 512.000000 to 128.000000 Hz.\n"
     ]
    },
    {
     "name": "stderr",
     "output_type": "stream",
     "text": [
      "2022-11-26 18:42:47.122959: E tensorflow/core/grappler/optimizers/meta_optimizer.cc:954] layout failed: INVALID_ARGUMENT: Size of values 0 does not match size of permutation 4 @ fanin shape inmodel_72/dropout_720/dropout/SelectV2-2-TransposeNHWCToNCHW-LayoutOptimizer\n",
      "2022-11-26 18:43:59.286163: E tensorflow/core/grappler/optimizers/meta_optimizer.cc:954] layout failed: INVALID_ARGUMENT: Size of values 0 does not match size of permutation 4 @ fanin shape inmodel_73/dropout_730/dropout/SelectV2-2-TransposeNHWCToNCHW-LayoutOptimizer\n",
      "2022-11-26 18:45:27.570450: E tensorflow/core/grappler/optimizers/meta_optimizer.cc:954] layout failed: INVALID_ARGUMENT: Size of values 0 does not match size of permutation 4 @ fanin shape inmodel_74/dropout_740/dropout/SelectV2-2-TransposeNHWCToNCHW-LayoutOptimizer\n",
      "2022-11-26 18:46:38.727724: E tensorflow/core/grappler/optimizers/meta_optimizer.cc:954] layout failed: INVALID_ARGUMENT: Size of values 0 does not match size of permutation 4 @ fanin shape inmodel_75/dropout_750/dropout/SelectV2-2-TransposeNHWCToNCHW-LayoutOptimizer\n",
      "2022-11-26 18:48:08.441693: E tensorflow/core/grappler/optimizers/meta_optimizer.cc:954] layout failed: INVALID_ARGUMENT: Size of values 0 does not match size of permutation 4 @ fanin shape inmodel_76/dropout_760/dropout/SelectV2-2-TransposeNHWCToNCHW-LayoutOptimizer\n",
      "2022-11-26 18:49:36.616730: E tensorflow/core/grappler/optimizers/meta_optimizer.cc:954] layout failed: INVALID_ARGUMENT: Size of values 0 does not match size of permutation 4 @ fanin shape inmodel_77/dropout_770/dropout/SelectV2-2-TransposeNHWCToNCHW-LayoutOptimizer\n"
     ]
    },
    {
     "name": "stdout",
     "output_type": "stream",
     "text": [
      "Subject 40 Accuracy 0.58 elapsed time 6296.96684551239\n",
      "---------\n",
      "Resampling from 512.000000 to 128.000000 Hz.\n"
     ]
    },
    {
     "name": "stderr",
     "output_type": "stream",
     "text": [
      "2022-11-26 18:51:11.353403: E tensorflow/core/grappler/optimizers/meta_optimizer.cc:954] layout failed: INVALID_ARGUMENT: Size of values 0 does not match size of permutation 4 @ fanin shape inmodel_78/dropout_780/dropout/SelectV2-2-TransposeNHWCToNCHW-LayoutOptimizer\n",
      "2022-11-26 18:52:24.292037: E tensorflow/core/grappler/optimizers/meta_optimizer.cc:954] layout failed: INVALID_ARGUMENT: Size of values 0 does not match size of permutation 4 @ fanin shape inmodel_79/dropout_790/dropout/SelectV2-2-TransposeNHWCToNCHW-LayoutOptimizer\n",
      "2022-11-26 18:53:52.942157: E tensorflow/core/grappler/optimizers/meta_optimizer.cc:954] layout failed: INVALID_ARGUMENT: Size of values 0 does not match size of permutation 4 @ fanin shape inmodel_80/dropout_800/dropout/SelectV2-2-TransposeNHWCToNCHW-LayoutOptimizer\n",
      "2022-11-26 18:55:03.638162: E tensorflow/core/grappler/optimizers/meta_optimizer.cc:954] layout failed: INVALID_ARGUMENT: Size of values 0 does not match size of permutation 4 @ fanin shape inmodel_81/dropout_810/dropout/SelectV2-2-TransposeNHWCToNCHW-LayoutOptimizer\n",
      "2022-11-26 18:56:33.043231: E tensorflow/core/grappler/optimizers/meta_optimizer.cc:954] layout failed: INVALID_ARGUMENT: Size of values 0 does not match size of permutation 4 @ fanin shape inmodel_82/dropout_820/dropout/SelectV2-2-TransposeNHWCToNCHW-LayoutOptimizer\n",
      "2022-11-26 18:58:01.420077: E tensorflow/core/grappler/optimizers/meta_optimizer.cc:954] layout failed: INVALID_ARGUMENT: Size of values 0 does not match size of permutation 4 @ fanin shape inmodel_83/dropout_830/dropout/SelectV2-2-TransposeNHWCToNCHW-LayoutOptimizer\n"
     ]
    },
    {
     "name": "stdout",
     "output_type": "stream",
     "text": [
      "Subject 41 Accuracy 0.93 elapsed time 6770.734582901001\n",
      "---------\n",
      "Resampling from 512.000000 to 128.000000 Hz.\n"
     ]
    },
    {
     "name": "stderr",
     "output_type": "stream",
     "text": [
      "2022-11-26 18:59:05.863717: E tensorflow/core/grappler/optimizers/meta_optimizer.cc:954] layout failed: INVALID_ARGUMENT: Size of values 0 does not match size of permutation 4 @ fanin shape inmodel_84/dropout_840/dropout/SelectV2-2-TransposeNHWCToNCHW-LayoutOptimizer\n",
      "2022-11-26 19:00:18.418349: E tensorflow/core/grappler/optimizers/meta_optimizer.cc:954] layout failed: INVALID_ARGUMENT: Size of values 0 does not match size of permutation 4 @ fanin shape inmodel_85/dropout_850/dropout/SelectV2-2-TransposeNHWCToNCHW-LayoutOptimizer\n",
      "2022-11-26 19:01:47.060942: E tensorflow/core/grappler/optimizers/meta_optimizer.cc:954] layout failed: INVALID_ARGUMENT: Size of values 0 does not match size of permutation 4 @ fanin shape inmodel_86/dropout_860/dropout/SelectV2-2-TransposeNHWCToNCHW-LayoutOptimizer\n",
      "2022-11-26 19:03:14.865135: E tensorflow/core/grappler/optimizers/meta_optimizer.cc:954] layout failed: INVALID_ARGUMENT: Size of values 0 does not match size of permutation 4 @ fanin shape inmodel_87/dropout_870/dropout/SelectV2-2-TransposeNHWCToNCHW-LayoutOptimizer\n",
      "2022-11-26 19:04:27.248690: E tensorflow/core/grappler/optimizers/meta_optimizer.cc:954] layout failed: INVALID_ARGUMENT: Size of values 0 does not match size of permutation 4 @ fanin shape inmodel_88/dropout_880/dropout/SelectV2-2-TransposeNHWCToNCHW-LayoutOptimizer\n",
      "2022-11-26 19:05:55.860175: E tensorflow/core/grappler/optimizers/meta_optimizer.cc:954] layout failed: INVALID_ARGUMENT: Size of values 0 does not match size of permutation 4 @ fanin shape inmodel_89/dropout_890/dropout/SelectV2-2-TransposeNHWCToNCHW-LayoutOptimizer\n"
     ]
    },
    {
     "name": "stdout",
     "output_type": "stream",
     "text": [
      "Subject 42 Accuracy 0.675 elapsed time 7276.259750366211\n",
      "---------\n",
      "Resampling from 512.000000 to 128.000000 Hz.\n"
     ]
    },
    {
     "name": "stderr",
     "output_type": "stream",
     "text": [
      "2022-11-26 19:07:30.869651: E tensorflow/core/grappler/optimizers/meta_optimizer.cc:954] layout failed: INVALID_ARGUMENT: Size of values 0 does not match size of permutation 4 @ fanin shape inmodel_90/dropout_900/dropout/SelectV2-2-TransposeNHWCToNCHW-LayoutOptimizer\n",
      "2022-11-26 19:08:58.849923: E tensorflow/core/grappler/optimizers/meta_optimizer.cc:954] layout failed: INVALID_ARGUMENT: Size of values 0 does not match size of permutation 4 @ fanin shape inmodel_91/dropout_910/dropout/SelectV2-2-TransposeNHWCToNCHW-LayoutOptimizer\n",
      "2022-11-26 19:10:11.195307: E tensorflow/core/grappler/optimizers/meta_optimizer.cc:954] layout failed: INVALID_ARGUMENT: Size of values 0 does not match size of permutation 4 @ fanin shape inmodel_92/dropout_920/dropout/SelectV2-2-TransposeNHWCToNCHW-LayoutOptimizer\n",
      "2022-11-26 19:11:21.942865: E tensorflow/core/grappler/optimizers/meta_optimizer.cc:954] layout failed: INVALID_ARGUMENT: Size of values 0 does not match size of permutation 4 @ fanin shape inmodel_93/dropout_930/dropout/SelectV2-2-TransposeNHWCToNCHW-LayoutOptimizer\n",
      "2022-11-26 19:12:32.665139: E tensorflow/core/grappler/optimizers/meta_optimizer.cc:954] layout failed: INVALID_ARGUMENT: Size of values 0 does not match size of permutation 4 @ fanin shape inmodel_94/dropout_940/dropout/SelectV2-2-TransposeNHWCToNCHW-LayoutOptimizer\n",
      "2022-11-26 19:14:01.790332: E tensorflow/core/grappler/optimizers/meta_optimizer.cc:954] layout failed: INVALID_ARGUMENT: Size of values 0 does not match size of permutation 4 @ fanin shape inmodel_95/dropout_950/dropout/SelectV2-2-TransposeNHWCToNCHW-LayoutOptimizer\n"
     ]
    },
    {
     "name": "stdout",
     "output_type": "stream",
     "text": [
      "Subject 43 Accuracy 0.99 elapsed time 7732.601194858551\n",
      "---------\n",
      "Resampling from 512.000000 to 128.000000 Hz.\n"
     ]
    },
    {
     "name": "stderr",
     "output_type": "stream",
     "text": [
      "2022-11-26 19:15:07.608717: E tensorflow/core/grappler/optimizers/meta_optimizer.cc:954] layout failed: INVALID_ARGUMENT: Size of values 0 does not match size of permutation 4 @ fanin shape inmodel_96/dropout_960/dropout/SelectV2-2-TransposeNHWCToNCHW-LayoutOptimizer\n",
      "2022-11-26 19:16:17.857536: E tensorflow/core/grappler/optimizers/meta_optimizer.cc:954] layout failed: INVALID_ARGUMENT: Size of values 0 does not match size of permutation 4 @ fanin shape inmodel_97/dropout_970/dropout/SelectV2-2-TransposeNHWCToNCHW-LayoutOptimizer\n",
      "2022-11-26 19:17:46.642281: E tensorflow/core/grappler/optimizers/meta_optimizer.cc:954] layout failed: INVALID_ARGUMENT: Size of values 0 does not match size of permutation 4 @ fanin shape inmodel_98/dropout_980/dropout/SelectV2-2-TransposeNHWCToNCHW-LayoutOptimizer\n",
      "2022-11-26 19:18:58.155396: E tensorflow/core/grappler/optimizers/meta_optimizer.cc:954] layout failed: INVALID_ARGUMENT: Size of values 0 does not match size of permutation 4 @ fanin shape inmodel_99/dropout_990/dropout/SelectV2-2-TransposeNHWCToNCHW-LayoutOptimizer\n",
      "2022-11-26 19:20:26.065288: E tensorflow/core/grappler/optimizers/meta_optimizer.cc:954] layout failed: INVALID_ARGUMENT: Size of values 0 does not match size of permutation 4 @ fanin shape inmodel_100/dropout_1000/dropout/SelectV2-2-TransposeNHWCToNCHW-LayoutOptimizer\n",
      "2022-11-26 19:21:39.291674: E tensorflow/core/grappler/optimizers/meta_optimizer.cc:954] layout failed: INVALID_ARGUMENT: Size of values 0 does not match size of permutation 4 @ fanin shape inmodel_101/dropout_1010/dropout/SelectV2-2-TransposeNHWCToNCHW-LayoutOptimizer\n"
     ]
    },
    {
     "name": "stdout",
     "output_type": "stream",
     "text": [
      "Subject 44 Accuracy 0.8300000000000001 elapsed time 8219.86613869667\n",
      "---------\n",
      "Resampling from 512.000000 to 128.000000 Hz.\n"
     ]
    },
    {
     "name": "stderr",
     "output_type": "stream",
     "text": [
      "2022-11-26 19:23:14.670169: E tensorflow/core/grappler/optimizers/meta_optimizer.cc:954] layout failed: INVALID_ARGUMENT: Size of values 0 does not match size of permutation 4 @ fanin shape inmodel_102/dropout_1020/dropout/SelectV2-2-TransposeNHWCToNCHW-LayoutOptimizer\n",
      "2022-11-26 19:24:42.486950: E tensorflow/core/grappler/optimizers/meta_optimizer.cc:954] layout failed: INVALID_ARGUMENT: Size of values 0 does not match size of permutation 4 @ fanin shape inmodel_103/dropout_1030/dropout/SelectV2-2-TransposeNHWCToNCHW-LayoutOptimizer\n",
      "2022-11-26 19:25:54.230286: E tensorflow/core/grappler/optimizers/meta_optimizer.cc:954] layout failed: INVALID_ARGUMENT: Size of values 0 does not match size of permutation 4 @ fanin shape inmodel_104/dropout_1040/dropout/SelectV2-2-TransposeNHWCToNCHW-LayoutOptimizer\n",
      "2022-11-26 19:27:05.448896: E tensorflow/core/grappler/optimizers/meta_optimizer.cc:954] layout failed: INVALID_ARGUMENT: Size of values 0 does not match size of permutation 4 @ fanin shape inmodel_105/dropout_1050/dropout/SelectV2-2-TransposeNHWCToNCHW-LayoutOptimizer\n",
      "2022-11-26 19:28:33.350801: E tensorflow/core/grappler/optimizers/meta_optimizer.cc:954] layout failed: INVALID_ARGUMENT: Size of values 0 does not match size of permutation 4 @ fanin shape inmodel_106/dropout_1060/dropout/SelectV2-2-TransposeNHWCToNCHW-LayoutOptimizer\n",
      "2022-11-26 19:30:01.051371: E tensorflow/core/grappler/optimizers/meta_optimizer.cc:954] layout failed: INVALID_ARGUMENT: Size of values 0 does not match size of permutation 4 @ fanin shape inmodel_107/dropout_1070/dropout/SelectV2-2-TransposeNHWCToNCHW-LayoutOptimizer\n"
     ]
    },
    {
     "name": "stdout",
     "output_type": "stream",
     "text": [
      "Subject 45 Accuracy 0.5850000000000001 elapsed time 8688.895906209946\n",
      "---------\n",
      "Resampling from 512.000000 to 128.000000 Hz.\n"
     ]
    },
    {
     "name": "stderr",
     "output_type": "stream",
     "text": [
      "2022-11-26 19:31:05.967849: E tensorflow/core/grappler/optimizers/meta_optimizer.cc:954] layout failed: INVALID_ARGUMENT: Size of values 0 does not match size of permutation 4 @ fanin shape inmodel_108/dropout_1080/dropout/SelectV2-2-TransposeNHWCToNCHW-LayoutOptimizer\n",
      "2022-11-26 19:32:34.014766: E tensorflow/core/grappler/optimizers/meta_optimizer.cc:954] layout failed: INVALID_ARGUMENT: Size of values 0 does not match size of permutation 4 @ fanin shape inmodel_109/dropout_1090/dropout/SelectV2-2-TransposeNHWCToNCHW-LayoutOptimizer\n",
      "2022-11-26 19:33:55.897187: E tensorflow/core/grappler/optimizers/meta_optimizer.cc:954] layout failed: INVALID_ARGUMENT: Size of values 0 does not match size of permutation 4 @ fanin shape inmodel_110/dropout_1100/dropout/SelectV2-2-TransposeNHWCToNCHW-LayoutOptimizer\n",
      "2022-11-26 19:35:18.444791: E tensorflow/core/grappler/optimizers/meta_optimizer.cc:954] layout failed: INVALID_ARGUMENT: Size of values 0 does not match size of permutation 4 @ fanin shape inmodel_111/dropout_1110/dropout/SelectV2-2-TransposeNHWCToNCHW-LayoutOptimizer\n",
      "2022-11-26 19:36:46.626068: E tensorflow/core/grappler/optimizers/meta_optimizer.cc:954] layout failed: INVALID_ARGUMENT: Size of values 0 does not match size of permutation 4 @ fanin shape inmodel_112/dropout_1120/dropout/SelectV2-2-TransposeNHWCToNCHW-LayoutOptimizer\n",
      "2022-11-26 19:38:08.702867: E tensorflow/core/grappler/optimizers/meta_optimizer.cc:954] layout failed: INVALID_ARGUMENT: Size of values 0 does not match size of permutation 4 @ fanin shape inmodel_113/dropout_1130/dropout/SelectV2-2-TransposeNHWCToNCHW-LayoutOptimizer\n"
     ]
    },
    {
     "name": "stdout",
     "output_type": "stream",
     "text": [
      "Subject 46 Accuracy 0.7791666666666667 elapsed time 9187.823885440826\n",
      "---------\n",
      "Resampling from 512.000000 to 128.000000 Hz.\n"
     ]
    },
    {
     "name": "stderr",
     "output_type": "stream",
     "text": [
      "2022-11-26 19:39:22.979146: E tensorflow/core/grappler/optimizers/meta_optimizer.cc:954] layout failed: INVALID_ARGUMENT: Size of values 0 does not match size of permutation 4 @ fanin shape inmodel_114/dropout_1140/dropout/SelectV2-2-TransposeNHWCToNCHW-LayoutOptimizer\n",
      "2022-11-26 19:40:51.365516: E tensorflow/core/grappler/optimizers/meta_optimizer.cc:954] layout failed: INVALID_ARGUMENT: Size of values 0 does not match size of permutation 4 @ fanin shape inmodel_115/dropout_1150/dropout/SelectV2-2-TransposeNHWCToNCHW-LayoutOptimizer\n",
      "2022-11-26 19:42:19.538183: E tensorflow/core/grappler/optimizers/meta_optimizer.cc:954] layout failed: INVALID_ARGUMENT: Size of values 0 does not match size of permutation 4 @ fanin shape inmodel_116/dropout_1160/dropout/SelectV2-2-TransposeNHWCToNCHW-LayoutOptimizer\n",
      "2022-11-26 19:43:27.723755: E tensorflow/core/grappler/optimizers/meta_optimizer.cc:954] layout failed: INVALID_ARGUMENT: Size of values 0 does not match size of permutation 4 @ fanin shape inmodel_117/dropout_1170/dropout/SelectV2-2-TransposeNHWCToNCHW-LayoutOptimizer\n",
      "2022-11-26 19:44:36.895463: E tensorflow/core/grappler/optimizers/meta_optimizer.cc:954] layout failed: INVALID_ARGUMENT: Size of values 0 does not match size of permutation 4 @ fanin shape inmodel_118/dropout_1180/dropout/SelectV2-2-TransposeNHWCToNCHW-LayoutOptimizer\n",
      "2022-11-26 19:45:45.228229: E tensorflow/core/grappler/optimizers/meta_optimizer.cc:954] layout failed: INVALID_ARGUMENT: Size of values 0 does not match size of permutation 4 @ fanin shape inmodel_119/dropout_1190/dropout/SelectV2-2-TransposeNHWCToNCHW-LayoutOptimizer\n"
     ]
    },
    {
     "name": "stdout",
     "output_type": "stream",
     "text": [
      "Subject 47 Accuracy 0.7589743589743589 elapsed time 9659.860354661942\n",
      "---------\n",
      "Resampling from 512.000000 to 128.000000 Hz.\n"
     ]
    },
    {
     "name": "stderr",
     "output_type": "stream",
     "text": [
      "2022-11-26 19:47:14.385436: E tensorflow/core/grappler/optimizers/meta_optimizer.cc:954] layout failed: INVALID_ARGUMENT: Size of values 0 does not match size of permutation 4 @ fanin shape inmodel_120/dropout_1200/dropout/SelectV2-2-TransposeNHWCToNCHW-LayoutOptimizer\n",
      "2022-11-26 19:48:26.136623: E tensorflow/core/grappler/optimizers/meta_optimizer.cc:954] layout failed: INVALID_ARGUMENT: Size of values 0 does not match size of permutation 4 @ fanin shape inmodel_121/dropout_1210/dropout/SelectV2-2-TransposeNHWCToNCHW-LayoutOptimizer\n",
      "2022-11-26 19:49:36.138814: E tensorflow/core/grappler/optimizers/meta_optimizer.cc:954] layout failed: INVALID_ARGUMENT: Size of values 0 does not match size of permutation 4 @ fanin shape inmodel_122/dropout_1220/dropout/SelectV2-2-TransposeNHWCToNCHW-LayoutOptimizer\n",
      "2022-11-26 19:50:46.174111: E tensorflow/core/grappler/optimizers/meta_optimizer.cc:954] layout failed: INVALID_ARGUMENT: Size of values 0 does not match size of permutation 4 @ fanin shape inmodel_123/dropout_1230/dropout/SelectV2-2-TransposeNHWCToNCHW-LayoutOptimizer\n",
      "2022-11-26 19:51:57.107561: E tensorflow/core/grappler/optimizers/meta_optimizer.cc:954] layout failed: INVALID_ARGUMENT: Size of values 0 does not match size of permutation 4 @ fanin shape inmodel_124/dropout_1240/dropout/SelectV2-2-TransposeNHWCToNCHW-LayoutOptimizer\n",
      "2022-11-26 19:53:25.637078: E tensorflow/core/grappler/optimizers/meta_optimizer.cc:954] layout failed: INVALID_ARGUMENT: Size of values 0 does not match size of permutation 4 @ fanin shape inmodel_125/dropout_1250/dropout/SelectV2-2-TransposeNHWCToNCHW-LayoutOptimizer\n"
     ]
    },
    {
     "name": "stdout",
     "output_type": "stream",
     "text": [
      "Subject 48 Accuracy 0.925 elapsed time 10126.045510292053\n",
      "---------\n",
      "Resampling from 512.000000 to 128.000000 Hz.\n"
     ]
    },
    {
     "name": "stderr",
     "output_type": "stream",
     "text": [
      "2022-11-26 19:55:00.641060: E tensorflow/core/grappler/optimizers/meta_optimizer.cc:954] layout failed: INVALID_ARGUMENT: Size of values 0 does not match size of permutation 4 @ fanin shape inmodel_126/dropout_1260/dropout/SelectV2-2-TransposeNHWCToNCHW-LayoutOptimizer\n",
      "2022-11-26 19:56:28.930497: E tensorflow/core/grappler/optimizers/meta_optimizer.cc:954] layout failed: INVALID_ARGUMENT: Size of values 0 does not match size of permutation 4 @ fanin shape inmodel_127/dropout_1270/dropout/SelectV2-2-TransposeNHWCToNCHW-LayoutOptimizer\n",
      "2022-11-26 19:57:38.364889: E tensorflow/core/grappler/optimizers/meta_optimizer.cc:954] layout failed: INVALID_ARGUMENT: Size of values 0 does not match size of permutation 4 @ fanin shape inmodel_128/dropout_1280/dropout/SelectV2-2-TransposeNHWCToNCHW-LayoutOptimizer\n",
      "2022-11-26 19:58:46.194991: E tensorflow/core/grappler/optimizers/meta_optimizer.cc:954] layout failed: INVALID_ARGUMENT: Size of values 0 does not match size of permutation 4 @ fanin shape inmodel_129/dropout_1290/dropout/SelectV2-2-TransposeNHWCToNCHW-LayoutOptimizer\n",
      "2022-11-26 20:00:14.030940: E tensorflow/core/grappler/optimizers/meta_optimizer.cc:954] layout failed: INVALID_ARGUMENT: Size of values 0 does not match size of permutation 4 @ fanin shape inmodel_130/dropout_1300/dropout/SelectV2-2-TransposeNHWCToNCHW-LayoutOptimizer\n",
      "2022-11-26 20:01:43.354522: E tensorflow/core/grappler/optimizers/meta_optimizer.cc:954] layout failed: INVALID_ARGUMENT: Size of values 0 does not match size of permutation 4 @ fanin shape inmodel_131/dropout_1310/dropout/SelectV2-2-TransposeNHWCToNCHW-LayoutOptimizer\n"
     ]
    },
    {
     "name": "stdout",
     "output_type": "stream",
     "text": [
      "Subject 49 Accuracy 0.8615384615384615 elapsed time 10617.467892169952\n",
      "---------\n",
      "Resampling from 512.000000 to 128.000000 Hz.\n"
     ]
    },
    {
     "name": "stderr",
     "output_type": "stream",
     "text": [
      "2022-11-26 20:03:12.439063: E tensorflow/core/grappler/optimizers/meta_optimizer.cc:954] layout failed: INVALID_ARGUMENT: Size of values 0 does not match size of permutation 4 @ fanin shape inmodel_132/dropout_1320/dropout/SelectV2-2-TransposeNHWCToNCHW-LayoutOptimizer\n",
      "2022-11-26 20:04:23.673649: E tensorflow/core/grappler/optimizers/meta_optimizer.cc:954] layout failed: INVALID_ARGUMENT: Size of values 0 does not match size of permutation 4 @ fanin shape inmodel_133/dropout_1330/dropout/SelectV2-2-TransposeNHWCToNCHW-LayoutOptimizer\n",
      "2022-11-26 20:05:52.757650: E tensorflow/core/grappler/optimizers/meta_optimizer.cc:954] layout failed: INVALID_ARGUMENT: Size of values 0 does not match size of permutation 4 @ fanin shape inmodel_134/dropout_1340/dropout/SelectV2-2-TransposeNHWCToNCHW-LayoutOptimizer\n",
      "2022-11-26 20:07:04.298948: E tensorflow/core/grappler/optimizers/meta_optimizer.cc:954] layout failed: INVALID_ARGUMENT: Size of values 0 does not match size of permutation 4 @ fanin shape inmodel_135/dropout_1350/dropout/SelectV2-2-TransposeNHWCToNCHW-LayoutOptimizer\n",
      "2022-11-26 20:08:15.128909: E tensorflow/core/grappler/optimizers/meta_optimizer.cc:954] layout failed: INVALID_ARGUMENT: Size of values 0 does not match size of permutation 4 @ fanin shape inmodel_136/dropout_1360/dropout/SelectV2-2-TransposeNHWCToNCHW-LayoutOptimizer\n",
      "2022-11-26 20:09:25.489881: E tensorflow/core/grappler/optimizers/meta_optimizer.cc:954] layout failed: INVALID_ARGUMENT: Size of values 0 does not match size of permutation 4 @ fanin shape inmodel_137/dropout_1370/dropout/SelectV2-2-TransposeNHWCToNCHW-LayoutOptimizer\n"
     ]
    },
    {
     "name": "stdout",
     "output_type": "stream",
     "text": [
      "Subject 50 Accuracy 0.845 elapsed time 11054.435228824615\n",
      "---------\n",
      "Resampling from 512.000000 to 128.000000 Hz.\n"
     ]
    },
    {
     "name": "stderr",
     "output_type": "stream",
     "text": [
      "2022-11-26 20:10:30.361391: E tensorflow/core/grappler/optimizers/meta_optimizer.cc:954] layout failed: INVALID_ARGUMENT: Size of values 0 does not match size of permutation 4 @ fanin shape inmodel_138/dropout_1380/dropout/SelectV2-2-TransposeNHWCToNCHW-LayoutOptimizer\n",
      "2022-11-26 20:11:58.429892: E tensorflow/core/grappler/optimizers/meta_optimizer.cc:954] layout failed: INVALID_ARGUMENT: Size of values 0 does not match size of permutation 4 @ fanin shape inmodel_139/dropout_1390/dropout/SelectV2-2-TransposeNHWCToNCHW-LayoutOptimizer\n",
      "2022-11-26 20:13:06.664575: E tensorflow/core/grappler/optimizers/meta_optimizer.cc:954] layout failed: INVALID_ARGUMENT: Size of values 0 does not match size of permutation 4 @ fanin shape inmodel_140/dropout_1400/dropout/SelectV2-2-TransposeNHWCToNCHW-LayoutOptimizer\n",
      "2022-11-26 20:14:16.194367: E tensorflow/core/grappler/optimizers/meta_optimizer.cc:954] layout failed: INVALID_ARGUMENT: Size of values 0 does not match size of permutation 4 @ fanin shape inmodel_141/dropout_1410/dropout/SelectV2-2-TransposeNHWCToNCHW-LayoutOptimizer\n",
      "2022-11-26 20:15:25.974207: E tensorflow/core/grappler/optimizers/meta_optimizer.cc:954] layout failed: INVALID_ARGUMENT: Size of values 0 does not match size of permutation 4 @ fanin shape inmodel_142/dropout_1420/dropout/SelectV2-2-TransposeNHWCToNCHW-LayoutOptimizer\n",
      "2022-11-26 20:16:34.104672: E tensorflow/core/grappler/optimizers/meta_optimizer.cc:954] layout failed: INVALID_ARGUMENT: Size of values 0 does not match size of permutation 4 @ fanin shape inmodel_143/dropout_1430/dropout/SelectV2-2-TransposeNHWCToNCHW-LayoutOptimizer\n"
     ]
    },
    {
     "name": "stdout",
     "output_type": "stream",
     "text": [
      "Subject 51 Accuracy 0.5128205128205128 elapsed time 11480.429579019547\n",
      "---------\n",
      "Resampling from 512.000000 to 128.000000 Hz.\n"
     ]
    },
    {
     "name": "stderr",
     "output_type": "stream",
     "text": [
      "2022-11-26 20:17:36.756841: E tensorflow/core/grappler/optimizers/meta_optimizer.cc:954] layout failed: INVALID_ARGUMENT: Size of values 0 does not match size of permutation 4 @ fanin shape inmodel_144/dropout_1440/dropout/SelectV2-2-TransposeNHWCToNCHW-LayoutOptimizer\n",
      "2022-11-26 20:18:47.226791: E tensorflow/core/grappler/optimizers/meta_optimizer.cc:954] layout failed: INVALID_ARGUMENT: Size of values 0 does not match size of permutation 4 @ fanin shape inmodel_145/dropout_1450/dropout/SelectV2-2-TransposeNHWCToNCHW-LayoutOptimizer\n",
      "2022-11-26 20:19:59.344418: E tensorflow/core/grappler/optimizers/meta_optimizer.cc:954] layout failed: INVALID_ARGUMENT: Size of values 0 does not match size of permutation 4 @ fanin shape inmodel_146/dropout_1460/dropout/SelectV2-2-TransposeNHWCToNCHW-LayoutOptimizer\n",
      "2022-11-26 20:21:28.366160: E tensorflow/core/grappler/optimizers/meta_optimizer.cc:954] layout failed: INVALID_ARGUMENT: Size of values 0 does not match size of permutation 4 @ fanin shape inmodel_147/dropout_1470/dropout/SelectV2-2-TransposeNHWCToNCHW-LayoutOptimizer\n",
      "2022-11-26 20:22:39.175100: E tensorflow/core/grappler/optimizers/meta_optimizer.cc:954] layout failed: INVALID_ARGUMENT: Size of values 0 does not match size of permutation 4 @ fanin shape inmodel_148/dropout_1480/dropout/SelectV2-2-TransposeNHWCToNCHW-LayoutOptimizer\n",
      "2022-11-26 20:24:07.097375: E tensorflow/core/grappler/optimizers/meta_optimizer.cc:954] layout failed: INVALID_ARGUMENT: Size of values 0 does not match size of permutation 4 @ fanin shape inmodel_149/dropout_1490/dropout/SelectV2-2-TransposeNHWCToNCHW-LayoutOptimizer\n"
     ]
    },
    {
     "name": "stdout",
     "output_type": "stream",
     "text": [
      "Subject 52 Accuracy 0.6849999999999999 elapsed time 11967.417487382889\n",
      "---------\n"
     ]
    }
   ],
   "source": [
    "tf.random.set_seed(seed)\n",
    "\n",
    "if data_set=='GIGA_MI_ME':\n",
    "    subjects = np.arange(52)+1\n",
    "    subjects = np.delete(subjects,[28,33])\n",
    "    db = GIGA_MI_ME('../input/giga-mi-me/GIGA_MI_ME/') # update path\n",
    "    num_class = 2\n",
    "    load_args = dict(db = db,\n",
    "                fs = db.metadata['sampling_rate'],\n",
    "                f_bank = np.asarray([[4., 40.]]),\n",
    "                vwt = np.asarray([[2.5, 5]]),\n",
    "                new_fs = 128.0)    \n",
    "elif data_set=='BCICIV2a':\n",
    "    subjects = np.arange(9)+1\n",
    "    db = Dataset_2a('../input/bciciv2a/BCI_CIV_2a/') # update path\n",
    "    num_class = 4\n",
    "    load_args = dict(db = db,\n",
    "                fs = db.metadata['sampling_rate'],\n",
    "                f_bank = np.asarray([[4., 40.]]),\n",
    "                vwt = np.asarray([[2.5, 6]]),\n",
    "                new_fs = 128.0)\n",
    "else:\n",
    "    print('Select a valid dataset')            \n",
    "\n",
    "t=time()\n",
    "for sbj in subjects[25:]:\n",
    "    load_args['sbj'] = sbj\n",
    "\n",
    "    if data_set=='GIGA_MI_ME':\n",
    "        X_train, y_train = load_GIGA(**load_args)\n",
    "    elif data_set=='BCICIV2a':\n",
    "        X_train, y_train = load_BCICIV2a(**load_args)\n",
    "\n",
    "    X_train = X_train[..., np.newaxis]\n",
    "    Y_train = tf.keras.utils.to_categorical(y_train,num_classes=num_class)\n",
    "    # build model\n",
    "    clf = KerasClassifier(\n",
    "        TCNet_fusion,\n",
    "        random_state=seed,\n",
    "\n",
    "        #model hyperparameters\n",
    "        nb_classes=num_class, \n",
    "        Chans = X_train.shape[1], \n",
    "        Samples = X_train.shape[2],\n",
    "        F1=24,\n",
    "\n",
    "        #model config\n",
    "        verbose=0,\n",
    "        batch_size=500, #full batch        \n",
    "        loss=tf.keras.losses.CategoricalCrossentropy(),\n",
    "        optimizer=\"adam\",\n",
    "        optimizer_learning__rate=0.1,\n",
    "        metrics = ['accuracy'],\n",
    "        epochs = epochs_train\n",
    "    )\n",
    "    # search params\n",
    "    param_grid =  {\n",
    "                'F1':[24],\n",
    "                }\n",
    "    \n",
    "    #Gridsearch\n",
    "    scoring = {\"AUC\": 'roc_auc', \"Accuracy\": make_scorer(accuracy_score),'Kappa':make_scorer(kappa)}\n",
    "    \n",
    "    cv = GridSearchCV(clf,param_grid,cv=StratifiedShuffleSplit(n_splits = folds, test_size = 0.2, random_state = seed),\n",
    "                         verbose=0,n_jobs=1,\n",
    "                         scoring=scoring,\n",
    "                         refit=\"Accuracy\",\n",
    "                            )\n",
    "    # frind best params with gridsearch\n",
    "    cv.fit(X_train,Y_train)\n",
    "    # best score\n",
    "    print('Subject',sbj,'Accuracy',cv.best_score_,'elapsed time',time()-t)\n",
    "    print('---------')\n",
    "    \n",
    "    cv.cv_results_['best_index_']=cv.best_index_\n",
    "    \n",
    "    #########\n",
    "    cv.best_estimator_.model_.save_weights(f'{PATH}Model_{Experiment}_{model_name}_sujeto_{sbj}_'+data_set+'_4_40_weights.h5')\n",
    "    with open(PATH+'Results_'+Experiment+'_'+model_name+'_sujeto_'+str(sbj)+'_'+data_set+'_4_40.p','wb') as f:\n",
    "        pickle.dump(cv.cv_results_,f)     "
   ]
  },
  {
   "cell_type": "code",
   "execution_count": 10,
   "id": "5a8da993",
   "metadata": {
    "execution": {
     "iopub.execute_input": "2022-11-26T20:25:29.863949Z",
     "iopub.status.busy": "2022-11-26T20:25:29.863574Z",
     "iopub.status.idle": "2022-11-26T20:25:33.352530Z",
     "shell.execute_reply": "2022-11-26T20:25:33.351171Z"
    },
    "papermill": {
     "duration": 3.557768,
     "end_time": "2022-11-26T20:25:33.355023",
     "exception": false,
     "start_time": "2022-11-26T20:25:29.797255",
     "status": "completed"
    },
    "tags": []
   },
   "outputs": [],
   "source": [
    "!rm -r ./MI_EEG_ClassMeth\n",
    "!rm -r ./__MACOSX\n",
    "!rm ./MI_EEG_ClassMeth.zip"
   ]
  }
 ],
 "metadata": {
  "kernelspec": {
   "display_name": "Python 3",
   "language": "python",
   "name": "python3"
  },
  "language_info": {
   "codemirror_mode": {
    "name": "ipython",
    "version": 3
   },
   "file_extension": ".py",
   "mimetype": "text/x-python",
   "name": "python",
   "nbconvert_exporter": "python",
   "pygments_lexer": "ipython3",
   "version": "3.7.12"
  },
  "papermill": {
   "default_parameters": {},
   "duration": 12221.675501,
   "end_time": "2022-11-26T20:25:37.305233",
   "environment_variables": {},
   "exception": null,
   "input_path": "__notebook__.ipynb",
   "output_path": "__notebook__.ipynb",
   "parameters": {},
   "start_time": "2022-11-26T17:01:55.629732",
   "version": "2.3.4"
  }
 },
 "nbformat": 4,
 "nbformat_minor": 5
}
